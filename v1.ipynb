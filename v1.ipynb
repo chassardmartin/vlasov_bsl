{
 "cells": [
  {
   "cell_type": "markdown",
   "metadata": {},
   "source": [
    "# TP : Résolution de l'équation de Vlasov-Poisson 1D-1D par une méthode semi-lagrangienne"
   ]
  },
  {
   "cell_type": "code",
   "execution_count": 1,
   "metadata": {},
   "outputs": [],
   "source": [
    "# Basic imports \n",
    "import numpy as np \n",
    "import matplotlib.pyplot as plt "
   ]
  },
  {
   "cell_type": "markdown",
   "metadata": {},
   "source": [
    "On s'intéresse à l'équation de Vlasov  (évolution de la distribution des électrons dans un plasma) couplée avec l'équation de Poisson (évolution du champ électrique) \n",
    "\n",
    "\\begin{equation}\n",
    "\\begin{cases}\n",
    "\\partial_t f + v \\,\\partial_x f - E(x,t) \\,\\partial_v f = 0 \\\\ \n",
    "\\\\ \n",
    "\\partial_x E = \\rho(x,t) = 1 - \\int f(x,v,t) \\,dv \n",
    "\\end{cases}\n",
    "\\end{equation} \n"
   ]
  },
  {
   "cell_type": "markdown",
   "metadata": {},
   "source": [
    "## Discrétisation de l'espace des phases "
   ]
  },
  {
   "cell_type": "markdown",
   "metadata": {},
   "source": [
    "On considère un espace des phases en deux dimensions (une d'espace et une de vitesse) $\\Omega = ]-\\pi, \\pi[^2 \\subset \\mathbb{R}^2$ que l'on va discrétiser par une grille uniforme $\\mathcal{M} = \\{(x_i, v_j)\\}_{i= 0\\,, \\cdots, \\,n_x-1\\,,\\,j=0\\,, \\cdots,\\, n_v-1, }\\subset \\Omega$ "
   ]
  },
  {
   "cell_type": "code",
   "execution_count": 2,
   "metadata": {},
   "outputs": [],
   "source": [
    "nx = 100; nv = 100\n",
    "dx = 2*np.pi / (2*nx) ; dv =2*np.pi / (2*nv)\n",
    "dt = 1e-2\n",
    "L = np.pi   \n",
    "x = np.linspace(-L, L, num=nx, dtype=float)\n",
    "v = np.linspace(-L, L, num=nv, dtype=float)\n",
    "xx, vv = np.meshgrid(x,v) "
   ]
  },
  {
   "cell_type": "markdown",
   "metadata": {},
   "source": [
    "## Condition initiale "
   ]
  },
  {
   "cell_type": "markdown",
   "metadata": {},
   "source": [
    "On se donne une condition initiale en distribution de particules $f_0(x,v)$ "
   ]
  },
  {
   "cell_type": "code",
   "execution_count": 18,
   "metadata": {},
   "outputs": [],
   "source": [
    "f = lambda x, v : (1 / 2*np.pi)*np.exp(-0.5*(x**2+v**2))"
   ]
  },
  {
   "cell_type": "code",
   "execution_count": 4,
   "metadata": {},
   "outputs": [
    {
     "data": {
      "text/plain": [
       "Text(0, 0.5, '$v$')"
      ]
     },
     "execution_count": 4,
     "metadata": {},
     "output_type": "execute_result"
    },
    {
     "data": {
      "image/png": "[encoded data removed]",
      "text/plain": [
       "<Figure size 640x480 with 1 Axes>"
      ]
     },
     "metadata": {},
     "output_type": "display_data"
    }
   ],
   "source": [
    "\n",
    "f_zero = f(xx, vv)\n",
    "plt.contourf(x, v, f_zero)\n",
    "plt.xlabel(r'$x$')\n",
    "plt.ylabel(r'$v$')  "
   ]
  },
  {
   "cell_type": "markdown",
   "metadata": {},
   "source": [
    "## Résolution de  l'équation de Poisson"
   ]
  },
  {
   "cell_type": "markdown",
   "metadata": {},
   "source": [
    "La partie poisson du problème s'écrit \n",
    "\n",
    "\\begin{equation}\n",
    "\\tag{P}\n",
    "\\partial_x E = \\rho(x,t) = 1 - \\int f(x, v, t) \\,\\text{d}v\n",
    "\\end{equation}\n",
    "\n",
    "On va résoudre ce problème en discrétisant $f$ en modes de Fourier selon \n",
    "$$ f^n(x,v) = f(x,v, t_n) = \\frac{1}{2\\pi} \\sum\\limits_{k,l} c^n_{k,l} \\, e^{i k.x} e^{i l.v} $$\n",
    "Ainsi \n",
    "\\begin{align*}\n",
    "\\rho^n(x, v) & = 1 - \\frac{1}{2\\pi} \\sum\\limits_{k,l} c^n_{k,l} \\, e^{i k.x} \\underbrace{\\int e^{i l.v} \\,\\text{d}v}_{=0 \\text{ si } l\\neq 0 \\text{ et } 2\\pi \\text{ sinon}} \\\\ \n",
    "             & = 1 - \\sum\\limits_{k} c^n_{k,0} \\, e^{i k.x}  \\\\ \n",
    "             & = \\sum\\limits_{k} \\tilde{c_k}^n \\, e^{i k.x},         \n",
    "\\end{align*}\n",
    "en posant $$\\tilde{c_k}^n = \n",
    "            \\begin{cases} \n",
    "                1 - c^n_{k,0} & \\text { si } k=0 \\\\\n",
    "                - c^n_{k,0} & \\text{ sinon.}\n",
    "            \\end{cases} \n",
    "            $$\n",
    "On écrit la somme de Fourier pour le champ électrique : \n",
    "$$ E^n(x) = \\frac{1}{2\\pi} \\sum\\limits_{j} d_j^n \\, e^{i j.x} $$ \n",
    "donc \n",
    "$$ \\frac{\\text{d} E^n}{\\text{d} x} = \\sum\\limits_{j} i j\\, d_j^n \\, e^{i j.x} $$\n",
    "\n",
    "et par identification (unicité) des coefficients de Fourier on obtient $d_k^n = \\frac{\\tilde{c_k}^n}{ik} \\text{ pour } k\\neq 0$. La valeur de $d_0^n$ qui correspond à la moyenne du champ électrique peut être choisie librement et on prendra par exemple $d_0^n=0$."
   ]
  },
  {
   "cell_type": "markdown",
   "metadata": {},
   "source": [
    "### Calcul des coefficients de Fourier de $f$"
   ]
  },
  {
   "cell_type": "markdown",
   "metadata": {},
   "source": [
    "On considère une fonction $f$ d'une variable $x$ 1D dont on cherche à calculer les coefficients de Fourier seulement à partir de sa connaissance sur une grille discrétisée $\\{x_l\\}_{l=0, \\,\\cdots,\\, n_x-1}$.\n",
    "\n",
    "Le $k$-ème coefficient de Fourier de $f$ noté $c_k$ est défini par \n",
    "\n",
    "$$ c_k = \\sum\\limits_{l} f_l \\, e^{-ik\\,x_l} $$ \n",
    "\n",
    "De sorte qu'on a l'égalité \n",
    "$$\n",
    "\\begin{pmatrix}\n",
    "c_0 \\\\\n",
    "\\vdots \\\\ \n",
    "c_{n_x-1}\n",
    "\\end{pmatrix}\n",
    "= \n",
    "\\tilde{F}\n",
    "\\begin{pmatrix}\n",
    "f_1 \\\\ \n",
    "\\vdots \\\\ \n",
    "f_{n_x -1} \n",
    "\\end{pmatrix}\n",
    "$$\n",
    "\n",
    "Où $\\tilde{F}$ est la matrice définie par \n",
    "$$ \\tilde{F} = [ \\,e^{-ik\\,x_l}\\, ]_{k,l=\\,0, \\cdots,\\, n_x-1} $$ "
   ]
  },
  {
   "cell_type": "code",
   "execution_count": 73,
   "metadata": {},
   "outputs": [],
   "source": [
    "def build_F_tilde(x):\n",
    "    nx = len(x) \n",
    "    F_tilde = np.array([np.exp(-k*1j * x[l]) for k,l in np.ndindex((nx,nx))], dtype=complex)\n",
    "    F_tilde.resize((nx,nx)) \n",
    "    return F_tilde\n",
    "\n",
    "def fourier_coeffs_1D(f, F_tilde):\n",
    "    c = F_tilde @ f \n",
    "    return c"
   ]
  },
  {
   "cell_type": "markdown",
   "metadata": {},
   "source": [
    "## Discrétisation en fréquences"
   ]
  },
  {
   "cell_type": "markdown",
   "metadata": {},
   "source": [
    "Afin de discrétiser les fonctions $f$ et $E$, nous allons tronquer l'espace de Fourier pour écrire des séries de Fourier finies selon \n",
    "\n",
    "$$ \\tilde{f}(x) = \\frac{1}{2\\pi} \\sum\\limits_{k = -K}^{K} c_k(f) \\, e^{ik.x} $$ "
   ]
  },
  {
   "cell_type": "markdown",
   "metadata": {},
   "source": [
    "On écrit une fonction qui reconstruit une fonction en calculant sa série de Fourier tronquée à partir de ses coefficients de Fourier "
   ]
  },
  {
   "cell_type": "code",
   "execution_count": 124,
   "metadata": {},
   "outputs": [],
   "source": [
    "def reconstuction(x, c):\n",
    "    nx = len(x) \n",
    "    s = lambda x: (1/nx) * np.sum([c[k]*np.exp(1j*k*x) for k in range(len(c))])\n",
    "    return np.array([s(_x) for _x in x]) "
   ]
  },
  {
   "cell_type": "code",
   "execution_count": 130,
   "metadata": {},
   "outputs": [],
   "source": [
    "g = lambda x : np.cos(x) + np.sin(2*x) + np.exp(x) \n",
    "g_h = g(x)"
   ]
  },
  {
   "cell_type": "code",
   "execution_count": 131,
   "metadata": {},
   "outputs": [
    {
     "name": "stdout",
     "output_type": "stream",
     "text": [
      "(100, 100)\n"
     ]
    }
   ],
   "source": [
    "F = build_F_tilde(x) \n",
    "print(np.shape(F))\n",
    "c = fourier_coeffs_1D(g_h, F) "
   ]
  },
  {
   "cell_type": "code",
   "execution_count": 134,
   "metadata": {},
   "outputs": [],
   "source": [
    "rec = reconstuction(x, c)"
   ]
  },
  {
   "cell_type": "code",
   "execution_count": 135,
   "metadata": {},
   "outputs": [
    {
     "data": {
      "text/plain": [
       "[<matplotlib.lines.Line2D at 0x7f418d72a7d0>]"
      ]
     },
     "execution_count": 135,
     "metadata": {},
     "output_type": "execute_result"
    },
    {
     "data": {
      "image/png": "[encoded data removed]",
      "text/plain": [
       "<Figure size 640x480 with 1 Axes>"
      ]
     },
     "metadata": {},
     "output_type": "display_data"
    }
   ],
   "source": [
    "plt.plot(x, rec) \n",
    "plt.plot(x, g_h)"
   ]
  },
  {
   "cell_type": "code",
   "execution_count": 112,
   "metadata": {},
   "outputs": [
    {
     "name": "stderr",
     "output_type": "stream",
     "text": [
      "/home/murloc/.local/lib/python3.10/site-packages/matplotlib/cbook/__init__.py:1369: ComplexWarning: Casting complex values to real discards the imaginary part\n",
      "  return np.asarray(x, float)\n"
     ]
    },
    {
     "data": {
      "text/plain": [
       "[<matplotlib.lines.Line2D at 0x7f418dac7a00>]"
      ]
     },
     "execution_count": 112,
     "metadata": {},
     "output_type": "execute_result"
    },
    {
     "data": {
      "image/png": "[encoded data removed]",
      "text/plain": [
       "<Figure size 640x480 with 1 Axes>"
      ]
     },
     "metadata": {},
     "output_type": "display_data"
    }
   ],
   "source": [
    "plt.plot(x, rec)"
   ]
  },
  {
   "cell_type": "markdown",
   "metadata": {},
   "source": [
    "## Calcul des coefficients 2D "
   ]
  },
  {
   "cell_type": "markdown",
   "metadata": {},
   "source": [
    "Pour calculer les coefficients pour les séries de Fourier en deux dimensions on effectue simplement les calculs dimension par dimension. "
   ]
  },
  {
   "cell_type": "code",
   "execution_count": 19,
   "metadata": {},
   "outputs": [],
   "source": [
    "def fourier_coeffs_2D(x, v, f):\n",
    "    nx = len(x) ; nv = len(v) \n",
    "    to_transform = []\n",
    "    for _v in v:\n",
    "        _f = lambda z: f(z,_v)\n",
    "        _f_d = _f(x)\n",
    "        F = build_F_tilde(x)\n",
    "        c_x = fourier_coeffs_1D(_f_d, F)\n",
    "        to_transform.append(c_x) \n",
    "    final_coeffs = [] \n",
    "    for element_to_transform in to_transform:\n",
    "        F = build_F_tilde(v)\n",
    "        c = fourier_coeffs_1D(element_to_transform, F)\n",
    "        final_coeffs.append(c) \n",
    "    final_coeffs = np.array(final_coeffs)\n",
    "    final_coeffs.resize((nx, nv))\n",
    "    return np.array(final_coeffs)"
   ]
  },
  {
   "cell_type": "code",
   "execution_count": 20,
   "metadata": {},
   "outputs": [],
   "source": [
    "c = fourier_coeffs_2D(x, v, f)"
   ]
  },
  {
   "cell_type": "code",
   "execution_count": 21,
   "metadata": {},
   "outputs": [
    {
     "data": {
      "text/plain": [
       "<matplotlib.contour.QuadContourSet at 0x7f419135dc00>"
      ]
     },
     "execution_count": 21,
     "metadata": {},
     "output_type": "execute_result"
    },
    {
     "data": {
      "image/png": "[encoded data removed]",
      "text/plain": [
       "<Figure size 640x480 with 1 Axes>"
      ]
     },
     "metadata": {},
     "output_type": "display_data"
    }
   ],
   "source": [
    "plt.contourf(np.abs(c))"
   ]
  },
  {
   "cell_type": "code",
   "execution_count": 22,
   "metadata": {},
   "outputs": [],
   "source": [
    "import itertools as it "
   ]
  },
  {
   "cell_type": "code",
   "execution_count": 48,
   "metadata": {},
   "outputs": [],
   "source": [
    "## Not Needed by now \n",
    "def reconstuction_2D(x, v, c):\n",
    "    nx = len(x) ; nv = len(v) \n",
    "    rec = np.zeros((nx,nv), dtype=complex)\n",
    "    for k,l in np.ndindex((nx,nv)):\n",
    "        rec[k,l] = np.sum([c[k,l] * np.exp(1j*k*x[k]) * np.exp(1j*l*v[l]) for k,l in np.ndindex((nx,nv))]) \n",
    "    return rec "
   ]
  },
  {
   "cell_type": "code",
   "execution_count": 42,
   "metadata": {},
   "outputs": [],
   "source": [
    "def solve_poisson(x,f):\n",
    "    nx = len(x) \n",
    "    c = fourier_coeffs_2D(x, v, f)\n",
    "    c_tilde = np.zeros(nx, dtype=complex)\n",
    "    c_tilde[0] = 1 - c[0,0] \n",
    "    for i in range(1, nx):\n",
    "        c_tilde[i] = - c[i,0]        \n",
    "    d = np.zeros(nx, dtype=complex)\n",
    "    d[0] = 0 \n",
    "    for k in range(1,nx):  \n",
    "        d[k] = (c_tilde[k]) / (k*1j)\n",
    "    _E = reconstuction(x, d)\n",
    "    return _E"
   ]
  },
  {
   "cell_type": "code",
   "execution_count": 43,
   "metadata": {},
   "outputs": [],
   "source": [
    "E_zero = solve_poisson(x, f)"
   ]
  },
  {
   "cell_type": "code",
   "execution_count": 44,
   "metadata": {},
   "outputs": [
    {
     "data": {
      "text/plain": [
       "[<matplotlib.lines.Line2D at 0x7f418e0b5480>]"
      ]
     },
     "execution_count": 44,
     "metadata": {},
     "output_type": "execute_result"
    },
    {
     "data": {
      "image/png": "[encoded data removed]",
      "text/plain": [
       "<Figure size 640x480 with 1 Axes>"
      ]
     },
     "metadata": {},
     "output_type": "display_data"
    }
   ],
   "source": [
    "plt.plot(np.real(E_zero))"
   ]
  },
  {
   "cell_type": "code",
   "execution_count": 45,
   "metadata": {},
   "outputs": [
    {
     "data": {
      "text/plain": [
       "[<matplotlib.lines.Line2D at 0x7f418df44190>]"
      ]
     },
     "execution_count": 45,
     "metadata": {},
     "output_type": "execute_result"
    },
    {
     "data": {
      "image/png": "[encoded data removed]",
      "text/plain": [
       "<Figure size 640x480 with 1 Axes>"
      ]
     },
     "metadata": {},
     "output_type": "display_data"
    }
   ],
   "source": [
    "plt.plot(np.imag(E_zero))"
   ]
  },
  {
   "cell_type": "code",
   "execution_count": null,
   "metadata": {},
   "outputs": [],
   "source": []
  },
  {
   "cell_type": "markdown",
   "metadata": {},
   "source": [
    "## Transport dans l'équation de Vlasov\n"
   ]
  },
  {
   "cell_type": "markdown",
   "metadata": {},
   "source": [
    "L'équation de Vlasov peut être décomposée en deux phénomènes décrivant son évolution :\n",
    "- une advection en $v$ causée par le champ $E$ : \n",
    "\n",
    "\\begin{equation}\n",
    "\\tag{a}\n",
    "\\partial_t f - E(x,t) \\, \\partial_v f = 0 \n",
    "\\end{equation}\n",
    "\n",
    "- une advection en $x$ causée par le champ de vitesses : \n",
    "\n",
    "\\begin{equation}\n",
    "\\tag{b}\n",
    "\\partial_t + v \\,\\partial_x f = 0\n",
    "\\end{equation}\n",
    "\n",
    "Ces équations sont des équations de transport, dont les solutions analytiques peuvent être obtenues en appliquant la \"méthode des caractéristiques\".\n"
   ]
  },
  {
   "cell_type": "markdown",
   "metadata": {},
   "source": [
    "### Méthode des caractéristiques"
   ]
  },
  {
   "cell_type": "markdown",
   "metadata": {},
   "source": [
    "\n",
    "\n",
    "On considère une équation de transport 1D homogène à une dimension avec champ de vitesse $a(x,t)$: \n",
    "\n",
    "\\begin{equation}\n",
    "\\tag{T}\n",
    "\\partial_t u + a(x,t)\\,\\partial_x u = 0\n",
    "\\end{equation}\n",
    "\n",
    "Soit $(t,x) \\in \\mathbb{R}^{+} \\times \\mathbb{R}$ et  $X(s;t,x), s\\in \\mathbb{R}$ une courbe paramétrée lisse telle que $X(t;t,x) = x$.\n",
    "\n",
    "On effectue le calcul de $\\frac{d}{ds}u(X(s;t,x), t)$. \n",
    "\n",
    "\\begin{align*} \n",
    "    \\frac{\\text{d}}{\\text{d}s}u(X(s;t,x), s) = \\partial_t u(X(s;t,x), s) + \\frac{\\text{d}X}{\\text{d}s}(s;t,x)\\, \\partial_x u(X(s;t,x),s) & \\quad \\text{ (règle de la chaine)} \n",
    "\\end{align*} \n",
    "\n",
    "On voit donc avec $(\\text{T})$ que cette égalité se réduit à zéro si on impose la condition \n",
    "\n",
    "\\begin{equation}\n",
    "\\tag{C}\n",
    "\\frac{\\text{d}X}{\\text{d}s} (s; t,x) = a(X(s;t,x),s) \n",
    "\\end{equation}\n",
    "\n",
    "On a ainsi réduit la résolution de l'EDP $(\\text{T})$ à la résolution de l'EDO $(\\text{C})$ dite \"équation des caractéristiques\". \n"
   ]
  },
  {
   "cell_type": "markdown",
   "metadata": {},
   "source": [
    "Dans le cas simple où le champ de vitesses $a$ est constant, l'équation $(\\text{C})$ s'intégre en \n",
    "$$X(s;t,x) = as + b$$ \n",
    "\n",
    "et le coefficient b est déterminé par la condition\n",
    "\n",
    "$$X(t;t,x) = x \\implies b = x - at$$ \n",
    "\n",
    "de sorte que \n",
    "\n",
    "$$X(s;t,x) = x + a(s-t).$$\n",
    "\n",
    "L'intérêt d'imposer l'équation des caractéristiques $\\text{(C)}$ est de fixer \n",
    "\n",
    "$$\\frac{\\text{d}}{\\text{d}s}u(X(s;t,x), s)= 0$$\n",
    "\n",
    "et ainsi $\\textbf{la solution est constante le long des courbes caractéristiques}$ de sorte que pour tout $(x,t)$\n",
    "\n",
    "$$u(x,t) = u(X(t;t,x), t) = u(X(0;t,x), 0) = u_0(x-at)$$ \n",
    "\n",
    "où $u_0(x) = u(x, t=0)$ est la condition initiale. \n",
    "\n"
   ]
  },
  {
   "cell_type": "markdown",
   "metadata": {},
   "source": [
    "On voit ainsi ques les équations $(a)$ et $(b)$ sont analytiquement résolues par \n",
    "\n",
    "\\begin{equation}\n",
    "\\tag{a*}\n",
    "    f(x,v,t) = f_0(x, v + E(x)\\,t)\n",
    "\\end{equation}\n",
    "et\n",
    "\\begin{equation}\n",
    "\\tag{b*}\n",
    "    f(x,v,t) = f_0(x - v\\,t, v)\n",
    "\\end{equation}\n",
    "respectivement. \n",
    "\n",
    "Seulement dans notre cas où l'on cherche à résoudre l'équation de Vlasov-Poisson (où l'évolution du champ électrique $E$ est couplée à l'équation de Vlasov) nous faison face à deux difficultés : \n",
    "\n",
    "1) Quel champ $E$ utiliser dans l'étape d'advection en $v$ ? Celui-ci évolue en effet simultanément par rapport à $f$. Cette question va nous amener à définir un schéma de $\\textbf{splitting}$.\n",
    "2) Les points $x-v\\,t$ ou $v + E(x)\\,t$ n'ont aucune raison particulière d'appartenir au maillage $\\mathcal{M}$. Ce qui va nous amener à définir une étape $\\textbf{d'interpolation}$ dans le schéma. "
   ]
  },
  {
   "cell_type": "markdown",
   "metadata": {},
   "source": [
    "## Interpolation en séries de Fourier "
   ]
  },
  {
   "cell_type": "markdown",
   "metadata": {},
   "source": [
    "On suppose connus la décomposition en série de fourier tronquée de f à l'étape $n$ selon : \n",
    "\n",
    "$$ f^n(x, v) = \\frac{1}{2\\pi}\\sum\\limits_{k,l} c_{k,l}^n \\, e^{i k.x}e^{i l.v} $$ \n",
    "\n",
    "L'interpolation consiste ainsi à évaluer cette expression aux points d'interpolation $x - v\\Delta t$ ou $v + E(x)\\frac{\\Delta t}{2}$ par exemple. "
   ]
  },
  {
   "cell_type": "markdown",
   "metadata": {},
   "source": []
  }
 ],
 "metadata": {
  "kernelspec": {
   "display_name": "Python 3.10.6 64-bit",
   "language": "python",
   "name": "python3"
  },
  "language_info": {
   "codemirror_mode": {
    "name": "ipython",
    "version": 3
   },
   "file_extension": ".py",
   "mimetype": "text/x-python",
   "name": "python",
   "nbconvert_exporter": "python",
   "pygments_lexer": "ipython3",
   "version": "3.10.6"
  },
  "orig_nbformat": 4,
  "vscode": {
   "interpreter": {
    "hash": "916dbcbb3f70747c44a77c7bcd40155683ae19c65e1c03b4aa3499c5328201f1"
   }
  }
 },
 "nbformat": 4,
 "nbformat_minor": 2
}
