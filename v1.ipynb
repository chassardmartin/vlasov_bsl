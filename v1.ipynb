{
 "cells": [
  {
   "cell_type": "markdown",
   "metadata": {},
   "source": [
    "# TP : Résolution de l'équation de Vlasov-Poisson 1D-1D par une méthode semi-lagrangienne"
   ]
  },
  {
   "cell_type": "code",
   "execution_count": 1,
   "metadata": {},
   "outputs": [],
   "source": [
    "# Basic imports \n",
    "import numpy as np \n",
    "import matplotlib.pyplot as plt "
   ]
  },
  {
   "cell_type": "markdown",
   "metadata": {},
   "source": [
    "On s'intéresse à l'équation de Vlasov  (évolution de la distribution des électrons dans un plasma) couplée avec l'équation de Poisson (évolution du champ électrique). \n",
    "\n",
    "\\begin{equation}\n",
    "\\begin{cases}\n",
    "\\partial_t f + v \\,\\partial_x f - E(x,t) \\,\\partial_v f = 0 \\\\ \n",
    "\\\\ \n",
    "\\partial_x E = \\rho(x,t) = 1 - \\int f(x,v,t) \\,dv \n",
    "\\end{cases}\n",
    "\\end{equation} \n"
   ]
  },
  {
   "cell_type": "markdown",
   "metadata": {},
   "source": [
    "## Discrétisation de l'espace des phases "
   ]
  },
  {
   "cell_type": "markdown",
   "metadata": {},
   "source": [
    "On considère un espace des phases en deux dimensions (une d'espace et une de vitesse) $\\Omega = (-\\pi, \\pi)^2 \\subset \\mathbb{R}^2$ que l'on va discrétiser par une grille uniforme $\\mathcal{M} = \\{(x_i, v_j)\\}_{i= 0\\,, \\cdots, \\,n_x-1\\,,\\,j=0\\,, \\cdots,\\, n_v-1, }\\subset \\Omega$ "
   ]
  },
  {
   "cell_type": "code",
   "execution_count": 429,
   "metadata": {},
   "outputs": [],
   "source": [
    "nx = 2**5; nv = 2**5\n",
    "dt = 1e-2\n",
    "a = np.pi; vmax = np.pi  \n",
    "x = np.linspace(-a, a, num=nx, dtype=float)\n",
    "v = np.linspace(-vmax, vmax, num=nv, dtype=float)\n",
    "xx, vv = np.meshgrid(x,v) \n",
    "T = 10 "
   ]
  },
  {
   "cell_type": "markdown",
   "metadata": {},
   "source": [
    "## Condition initiale "
   ]
  },
  {
   "cell_type": "markdown",
   "metadata": {},
   "source": [
    "On se donne une condition initiale en distribution de particules $f_0(x,v)$ "
   ]
  },
  {
   "cell_type": "code",
   "execution_count": 317,
   "metadata": {},
   "outputs": [],
   "source": [
    "x0 = 0; v0 = 0 "
   ]
  },
  {
   "cell_type": "code",
   "execution_count": 407,
   "metadata": {},
   "outputs": [],
   "source": [
    "f = lambda x, v : (1 / 2*np.pi)*np.exp(-0.5*(x**2+v**2))"
   ]
  },
  {
   "cell_type": "code",
   "execution_count": 408,
   "metadata": {},
   "outputs": [
    {
     "data": {
      "text/plain": [
       "Text(0, 0.5, '$v$')"
      ]
     },
     "execution_count": 408,
     "metadata": {},
     "output_type": "execute_result"
    },
    {
     "data": {
      "image/png": "[encoded data removed]",
      "text/plain": [
       "<Figure size 640x480 with 1 Axes>"
      ]
     },
     "metadata": {},
     "output_type": "display_data"
    }
   ],
   "source": [
    "\n",
    "f_zero = f(xx, vv)\n",
    "plt.contourf(x, v, f_zero)\n",
    "plt.xlabel(r'$x$')\n",
    "plt.ylabel(r'$v$')  "
   ]
  },
  {
   "cell_type": "markdown",
   "metadata": {},
   "source": [
    "## Résolution de  l'équation de Poisson"
   ]
  },
  {
   "cell_type": "markdown",
   "metadata": {},
   "source": [
    "La partie poisson du problème s'écrit \n",
    "\n",
    "\\begin{equation}\n",
    "\\tag{P}\n",
    "\\partial_x E = \\rho(x,t) = 1 - \\int f(x, v, t) \\,\\text{d}v\n",
    "\\end{equation}\n",
    "\n",
    "On va résoudre ce problème en discrétisant $f$ en modes de Fourier selon \n",
    "$$ f^n(x,v) = f(x,v, t_n) = \\frac{1}{2\\pi} \\sum\\limits_{k,l} c^n_{k,l} \\, e^{i k.x} e^{i l.v} $$\n",
    "Ainsi \n",
    "\\begin{align*}\n",
    "\\rho^n(x, v) & = 1 - \\frac{1}{2\\pi} \\sum\\limits_{k,l} c^n_{k,l} \\, e^{i k.x} \\underbrace{\\int e^{i l.v} \\,\\text{d}v}_{=0 \\text{ si } l\\neq 0 \\text{ et } 2\\pi \\text{ sinon}} \\\\ \n",
    "             & = 1 - \\sum\\limits_{k} c^n_{k,0} \\, e^{i k.x}  \\\\ \n",
    "             & = \\sum\\limits_{k} \\tilde{c_k}^n \\, e^{i k.x},         \n",
    "\\end{align*}\n",
    "en posant $$\\tilde{c_k}^n = \n",
    "            \\begin{cases} \n",
    "                1 - c^n_{k,0} & \\text { si } k=0 \\\\\n",
    "                - c^n_{k,0} & \\text{ sinon.}\n",
    "            \\end{cases} \n",
    "            $$\n",
    "On écrit la somme de Fourier pour le champ électrique : \n",
    "$$ E^n(x) = \\frac{1}{2\\pi} \\sum\\limits_{j} d_j^n \\, e^{i j.x} $$ \n",
    "donc \n",
    "$$ \\frac{\\text{d} E^n}{\\text{d} x} = \\frac{1}{2\\pi} \\sum\\limits_{j} i j\\, d_j^n \\, e^{i j.x} $$\n",
    "\n",
    "et par identification (unicité) des coefficients de Fourier on obtient $d_k^n = 2\\pi\\,\\frac{\\tilde{c_k}^n}{ik} \\text{ pour } k\\neq 0$. La valeur de $d_0^n$ qui correspond à la moyenne du champ électrique peut être choisie librement et on prendra par exemple $d_0^n=0$."
   ]
  },
  {
   "cell_type": "markdown",
   "metadata": {},
   "source": [
    "## Calcul des coefficients de fourier et approximation de la série "
   ]
  },
  {
   "cell_type": "markdown",
   "metadata": {},
   "source": [
    "On considère une fonction $f$ $2\\pi$-périodique définie sur $(-\\pi, \\pi)$ d'une variable $x$ 1D dont on cherche à calculer les coefficients de Fourier seulement à partir de sa connaissance sur une grille discrétisée $\\{x_l\\}_{l=0, \\,\\cdots,\\, n_x-1}$.\n",
    "\n",
    "Le $k$-ème coefficient de Fourier de $f$ noté $c_k$ est défini par \n",
    "\n",
    "$$ c_k = \\int_{-\\pi}^{\\pi} f(x) e^{-ikx} \\text{d}x .$$ \n",
    "\n",
    "Nous allons approcher ces coefficients à partir de notre discrétisation de l'espace des phases en $x$ avec une somme de Riemman selon : \n",
    "\n",
    "$$ c_k^{n_x}= \\frac{2\\pi}{n_x}\\sum\\limits_{l=0}^{n_x-1} f_l \\, e^{-ik\\,x_l} \\underset{n_x \\to +\\infty}{\\longrightarrow} c_k .$$ \n",
    "\n",
    "Avec $\\frac{2\\pi}{n_x} = \\Delta x$, l'incrément en $x$."
   ]
  },
  {
   "cell_type": "markdown",
   "metadata": {},
   "source": [
    "La fonction $f$ est donc approchée par sa série de fourier (où les coefficients de Fourier sont approchés selon ce qui précède) \n",
    "\n",
    "$$ f(x) \\sim \\sum\\limits_{k\\in\\mathbb{Z}} c_k^{n_x} \\,e^{ik.x}. $$ \n",
    "\n",
    "On introduit ainsi une nouvelle étape de discrétisation en tronquant cette somme de Fourier afin de reconstruire la fonction numériquement. Soit donc $K\\in \\mathbb{N}^*$ tel qu'on fait l'approximation \n",
    "\n",
    "$$ f(x) \\sim \\sum\\limits_{k = 0}^{K-1} c_k^{n_x} \\, e^{ik.x}.$$ \n"
   ]
  },
  {
   "cell_type": "markdown",
   "metadata": {},
   "source": [
    "\n",
    "On s'intéresse ainsi au calcul des coefficients $c_k$ pour $k= 0, \\,\\cdots,\\, K$ et l'on voit que l'on peut écrire le calcul sous forme matricielle selon : \n",
    "\n",
    " \n",
    "$$\n",
    "\\begin{pmatrix}\n",
    "c_{0} \\\\\n",
    "\\vdots \\\\ \n",
    "c_{K-1}\n",
    "\\end{pmatrix}\n",
    "= \n",
    "\\frac{2\\pi}{n_x} \n",
    "\\tilde{F}\n",
    "\\begin{pmatrix}\n",
    "f_0 \\\\ \n",
    "\\vdots \\\\ \n",
    "f_{n_x -1} \n",
    "\\end{pmatrix}\n",
    ",\n",
    "$$\n",
    "\n",
    "Où $\\tilde{F}\\in \\mathbb{R}^{K \\times n_x}$ est la matrice définie par \n",
    "$$ \\tilde{F} = [ \\,e^{-ik\\,x_l}\\, ]_{k = \\, 0, \\cdots, \\,K-1 ;\\, l=\\,0, \\cdots,\\, n_x-1}.$$ "
   ]
  },
  {
   "cell_type": "code",
   "execution_count": 346,
   "metadata": {},
   "outputs": [
    {
     "data": {
      "text/plain": [
       "array([-16, -15, -14, -13, -12, -11, -10,  -9,  -8,  -7,  -6,  -5,  -4,\n",
       "        -3,  -2,  -1,   0,   1,   2,   3,   4,   5,   6,   7,   8,   9,\n",
       "        10,  11,  12,  13,  14,  15])"
      ]
     },
     "execution_count": 346,
     "metadata": {},
     "output_type": "execute_result"
    }
   ],
   "source": [
    "k_values = np.arange(-nx//2, nx//2)\n",
    "k_values"
   ]
  },
  {
   "cell_type": "code",
   "execution_count": 347,
   "metadata": {},
   "outputs": [],
   "source": [
    "import itertools as it "
   ]
  },
  {
   "cell_type": "code",
   "execution_count": 348,
   "metadata": {},
   "outputs": [],
   "source": [
    "def build_F_tilde(x, k_values):\n",
    "    nx = len(x) \n",
    "    F_tilde = np.array([np.exp(-k*1j * x[l]) for k,l in it.product(k_values, range(nx))], dtype=complex)\n",
    "    F_tilde.resize((len(k_values),nx)) \n",
    "    return F_tilde\n",
    "\n",
    "def fourier_coeffs_1D(x, f, F_tilde):\n",
    "    nx = len(x) \n",
    "    c = ((2 * np.pi) / (nx)) * (F_tilde @ f) \n",
    "    return c"
   ]
  },
  {
   "cell_type": "markdown",
   "metadata": {},
   "source": [
    "On écrit une fonction qui reconstruit une fonction en calculant sa série de fourier tronquée à partir de ses coefficients de fourier "
   ]
  },
  {
   "cell_type": "code",
   "execution_count": 351,
   "metadata": {},
   "outputs": [],
   "source": [
    "def fourier_coeffs(x, k_values, f):\n",
    "    nx = len(x) \n",
    "    c_fft = np.fft.fft(f)\n",
    "    c_shifted = np.fft.fftshift(c_fft) \n",
    "    coeffs = np.array(\n",
    "        [coeff_shifted * np.exp(1j*k*np.pi) \n",
    "        for coeff_shifted, k in zip(c_shifted, k_values)]\n",
    "    )\n",
    "    return coeffs"
   ]
  },
  {
   "cell_type": "code",
   "execution_count": 378,
   "metadata": {},
   "outputs": [],
   "source": [
    "def fourier_rec(x, k_values, c):\n",
    "    nx = len(x)\n",
    "    reconstruction = (1/nx) * np.array(\n",
    "        [np.sum(\n",
    "            [coeff * np.exp(1j*k*x[n]) for coeff, k in zip(c, k_values)]\n",
    "        )\n",
    "        for n in range(nx)]\n",
    "    )\n",
    "    return reconstruction"
   ]
  },
  {
   "cell_type": "code",
   "execution_count": 379,
   "metadata": {},
   "outputs": [],
   "source": [
    "def fourier_interpolator(x, k_values, c):\n",
    "    nx = len(x)\n",
    "    reconstruction = lambda _x: (1/nx) * np.sum(\n",
    "            [coeff * np.exp(1j*k*_x) for coeff, k in zip(c, k_values)]\n",
    "        )\n",
    "    return reconstruction"
   ]
  },
  {
   "cell_type": "code",
   "execution_count": 354,
   "metadata": {},
   "outputs": [
    {
     "name": "stdout",
     "output_type": "stream",
     "text": [
      "32\n"
     ]
    }
   ],
   "source": [
    "len(x)\n",
    "print(len(g_h))"
   ]
  },
  {
   "cell_type": "code",
   "execution_count": 355,
   "metadata": {},
   "outputs": [],
   "source": [
    "c = fourier_coeffs(x, k_values, g_h) \n",
    "rec = fourier_rec(x, k_values, c)"
   ]
  },
  {
   "cell_type": "code",
   "execution_count": 356,
   "metadata": {},
   "outputs": [
    {
     "data": {
      "text/plain": [
       "[<matplotlib.lines.Line2D at 0x7f0d9c1b1c30>]"
      ]
     },
     "execution_count": 356,
     "metadata": {},
     "output_type": "execute_result"
    },
    {
     "data": {
      "image/png": "[encoded data removed]",
      "text/plain": [
       "<Figure size 640x480 with 1 Axes>"
      ]
     },
     "metadata": {},
     "output_type": "display_data"
    }
   ],
   "source": [
    "plt.plot(rec)\n",
    "plt.plot(g_h)"
   ]
  },
  {
   "cell_type": "markdown",
   "metadata": {},
   "source": [
    "## Calcul des modes en $l=0$ "
   ]
  },
  {
   "cell_type": "markdown",
   "metadata": {},
   "source": [
    "Pour la résolution de l'équation de Poisson nous avons vu que nous étions intéressé par les coefficients de fourier \n",
    "\n",
    "$$c_{k,0}(f) = \\int_{(-\\pi, \\pi)^2} f(x,v) \\, e^{-i k .x} \\,\\text{d}x\\,\\text{d}v.$$ \n",
    "\n",
    "Nous les approchons numériquement de manière classique avec des sommes de Riemann : \n",
    "\n",
    "\\begin{align*}\n",
    "c_{k,0}(f) \\sim & \\Delta x\\,\\Delta v \\sum\\limits_{m=0}^{n_x -1}\\sum\\limits_{n=0}^{n_v -1} f[m, n]\\, e^{-ik.x_m} \\\\\n",
    "\\sim & \\frac{4\\pi^2}{n_x\\,n_v} \\sum\\limits_{m=0}^{n_x -1}\\sum\\limits_{n=0}^{n_v -1} f[m, n]\\, e^{-ik.x_m},\n",
    "\\end{align*}  \n",
    "\n",
    "Où l'on a écrit $\\Delta x = \\frac{2\\pi}{n_x}$ et $\\Delta v = \\frac{2\\pi}{n_v}$.  "
   ]
  },
  {
   "cell_type": "code",
   "execution_count": 357,
   "metadata": {},
   "outputs": [
    {
     "data": {
      "text/plain": [
       "True"
      ]
     },
     "execution_count": 357,
     "metadata": {},
     "output_type": "execute_result"
    }
   ],
   "source": [
    "f_zero[1,0] == f(x[0], v[1])"
   ]
  },
  {
   "cell_type": "code",
   "execution_count": 358,
   "metadata": {},
   "outputs": [],
   "source": [
    "def coeff_l_zero(x, v, k, f):\n",
    "    nx = len(x); nv=len(v) \n",
    "    return ((4 * np.pi**2) / (nx*nv)) * np.sum([f[n,m] * np.exp(-1j*k*x[m]) for m,n in np.ndindex((nx, nv))])\n",
    "\n",
    "def coeffs_l_zero(x, v, k_values, f):\n",
    "    return np.array(list(map(lambda k: coeff_l_zero(x, v, k, f), k_values)))"
   ]
  },
  {
   "cell_type": "code",
   "execution_count": 359,
   "metadata": {},
   "outputs": [],
   "source": [
    "import itertools as it "
   ]
  },
  {
   "cell_type": "markdown",
   "metadata": {},
   "source": [
    "## Code pour la résolution de Poisson "
   ]
  },
  {
   "cell_type": "markdown",
   "metadata": {},
   "source": [
    "Tous les éléments sont ainsi en place afin de résoudre l'équation de Poisson grâce aux séries de fourier "
   ]
  },
  {
   "cell_type": "code",
   "execution_count": 360,
   "metadata": {},
   "outputs": [],
   "source": [
    "def solve_poisson(x, v, k_values, f):\n",
    "    nx = len(x) \n",
    "    c = coeffs_l_zero(x, v, k_values, f)\n",
    "    c_tilde = np.zeros(len(k_values), dtype=complex)\n",
    "    c_tilde[0] = 1 - c[0] \n",
    "    for k in range(1, len(k_values)):\n",
    "        c_tilde[k] = - c[k]      \n",
    "    d = np.zeros(len(k_values), dtype=complex)\n",
    "    # Electric field mean has to be fixed, we choose 0\n",
    "    d[0] = 0 \n",
    "    for k in range(1, len(k_values)):  \n",
    "        d[k] = 2*np.pi * (c_tilde[k]) / (k*1j)\n",
    "    _E = fourier_rec(x, k_values, d)\n",
    "    return _E"
   ]
  },
  {
   "cell_type": "code",
   "execution_count": 394,
   "metadata": {},
   "outputs": [],
   "source": [
    "E_zero = solve_poisson(x, v, k_values, f_zero)"
   ]
  },
  {
   "cell_type": "code",
   "execution_count": 395,
   "metadata": {},
   "outputs": [
    {
     "data": {
      "text/plain": [
       "[<matplotlib.lines.Line2D at 0x7f0da3789cf0>]"
      ]
     },
     "execution_count": 395,
     "metadata": {},
     "output_type": "execute_result"
    },
    {
     "data": {
      "image/png": "[encoded data removed]",
      "text/plain": [
       "<Figure size 640x480 with 1 Axes>"
      ]
     },
     "metadata": {},
     "output_type": "display_data"
    }
   ],
   "source": [
    "plt.plot(np.abs(E_zero)) "
   ]
  },
  {
   "cell_type": "markdown",
   "metadata": {},
   "source": [
    "## Phénomènes de transport dans l'équation de Vlasov\n"
   ]
  },
  {
   "cell_type": "markdown",
   "metadata": {},
   "source": [
    "L'équation de Vlasov peut être décomposée en deux phénomènes décrivant son évolution :\n",
    "- une advection en $v$ causée par le champ $E$ : \n",
    "\n",
    "\\begin{equation}\n",
    "\\tag{a}\n",
    "\\partial_t f - E(x,t) \\, \\partial_v f = 0 \n",
    "\\end{equation}\n",
    "\n",
    "- une advection en $x$ causée par le champ de vitesses : \n",
    "\n",
    "\\begin{equation}\n",
    "\\tag{b}\n",
    "\\partial_t + v \\,\\partial_x f = 0\n",
    "\\end{equation}\n",
    "\n",
    "Ces équations sont des équations de transport, dont les solutions analytiques peuvent être obtenues en appliquant la \"méthode des caractéristiques\".\n"
   ]
  },
  {
   "cell_type": "markdown",
   "metadata": {},
   "source": [
    "### Méthode des caractéristiques"
   ]
  },
  {
   "cell_type": "markdown",
   "metadata": {},
   "source": [
    "\n",
    "\n",
    "On considère une équation de transport 1D homogène à une dimension avec champ de vitesse $a(x,t)$: \n",
    "\n",
    "\\begin{equation}\n",
    "\\tag{T}\n",
    "\\partial_t u + a(x,t)\\,\\partial_x u = 0\n",
    "\\end{equation}\n",
    "\n",
    "Soit $(t,x) \\in \\mathbb{R}^{+} \\times \\mathbb{R}$ et  $X(s;t,x), s\\in \\mathbb{R}$ une courbe paramétrée lisse telle que $X(t;t,x) = x$.\n",
    "\n",
    "On effectue le calcul de $\\frac{d}{ds}u(X(s;t,x), t)$. \n",
    "\n",
    "\\begin{align*} \n",
    "    \\frac{\\text{d}}{\\text{d}s}u(X(s;t,x), s) = \\partial_t u(X(s;t,x), s) + \\frac{\\text{d}X}{\\text{d}s}(s;t,x)\\, \\partial_x u(X(s;t,x),s) & \\quad \\text{ (règle de la chaine)} \n",
    "\\end{align*} \n",
    "\n",
    "On voit donc avec $(\\text{T})$ que cette égalité se réduit à zéro si on impose la condition \n",
    "\n",
    "\\begin{equation}\n",
    "\\tag{C}\n",
    "\\frac{\\text{d}X}{\\text{d}s} (s; t,x) = a(X(s;t,x),s) \n",
    "\\end{equation}\n",
    "\n",
    "On a ainsi réduit la résolution de l'EDP $(\\text{T})$ à la résolution de l'EDO $(\\text{C})$ dite \"équation des caractéristiques\". \n"
   ]
  },
  {
   "cell_type": "markdown",
   "metadata": {},
   "source": [
    "Dans le cas simple où le champ de vitesses $a$ est constant, l'équation $(\\text{C})$ s'intégre en \n",
    "$$X(s;t,x) = as + b$$ \n",
    "\n",
    "et le coefficient b est déterminé par la condition\n",
    "\n",
    "$$X(t;t,x) = x \\implies b = x - at$$ \n",
    "\n",
    "de sorte que \n",
    "\n",
    "$$X(s;t,x) = x + a(s-t).$$\n",
    "\n",
    "L'intérêt d'imposer l'équation des caractéristiques $\\text{(C)}$ est de fixer \n",
    "\n",
    "$$\\frac{\\text{d}}{\\text{d}s}u(X(s;t,x), s)= 0$$\n",
    "\n",
    "et ainsi $\\textbf{la solution est constante le long des courbes caractéristiques}$ de sorte que pour tout $(x,t)$\n",
    "\n",
    "$$u(x,t) = u(X(t;t,x), t) = u(X(0;t,x), 0) = u_0(x-at)$$ \n",
    "\n",
    "où $u_0(x) = u(x, t=0)$ est la condition initiale. \n",
    "\n"
   ]
  },
  {
   "cell_type": "markdown",
   "metadata": {},
   "source": [
    "On voit ainsi ques les équations $(a)$ et $(b)$ sont analytiquement résolues par \n",
    "\n",
    "\\begin{equation}\n",
    "\\tag{a*}\n",
    "    f(x,v,t) = f_0(x, v + E(x)\\,t)\n",
    "\\end{equation}\n",
    "et\n",
    "\\begin{equation}\n",
    "\\tag{b*}\n",
    "    f(x,v,t) = f_0(x - v\\,t, v)\n",
    "\\end{equation}\n",
    "respectivement. \n",
    "\n",
    "Seulement dans notre cas où l'on cherche à résoudre l'équation de Vlasov-Poisson (où l'évolution du champ électrique $E$ est couplée à l'équation de Vlasov) nous faison face à deux difficultés : \n",
    "\n",
    "1) Quel champ $E$ utiliser dans l'étape d'advection en $v$ ? Celui-ci évolue en effet simultanément par rapport à $f$. Cette question va nous amener à définir un schéma de $\\textbf{splitting}$.\n",
    "2) Les points $x-v\\,t$ ou $v + E(x)\\,t$ n'ont aucune raison particulière d'appartenir au maillage $\\mathcal{M}$. Ce qui va nous amener à définir une étape $\\textbf{d'interpolation}$ dans le schéma. "
   ]
  },
  {
   "cell_type": "markdown",
   "metadata": {},
   "source": [
    "## Interpolation en séries de Fourier "
   ]
  },
  {
   "cell_type": "markdown",
   "metadata": {},
   "source": [
    "On suppose connue la décomposition en série de fourier tronquée de $f$ à l'étape $n$ selon : \n",
    "\n",
    "$$ f^n(x, v) = \\frac{1}{4\\pi^2}\\sum\\limits_{k= 0}^{K-1}\\sum\\limits_{l = 0}^{L-1} c_{k,l}^n \\, e^{i k.x}e^{i l.v} $$ \n",
    "\n",
    "L'interpolation consiste ainsi à évaluer cette expression aux points d'interpolation $x - v\\Delta t$ ou $v + E(x)\\frac{\\Delta t}{2}$ par exemple. "
   ]
  },
  {
   "cell_type": "markdown",
   "metadata": {},
   "source": [
    "## Calcul des coefficients de fourier en 2D \n",
    "\n",
    "On voit ainsi qu'on a besoin de calculer les coefficients de fourier de $f$ dans les deux dimensions $(x,v)$ pour réaliser l'interpolation. On introduit donc de même le paramètre $L$."
   ]
  },
  {
   "cell_type": "markdown",
   "metadata": {},
   "source": [
    "De manière similaire à ce qui a été fait en dimension 1 on calcule les coefficients de fourier en 2D en résolvant un système matriciel qui peut s'écrire : \n",
    "\n",
    "$$ \n",
    "\\begin{pmatrix}\n",
    "c_{0, 0} &  \\cdots & c_{0, K-1} \\\\ \n",
    "\\vdots   & & \\vdots \\\\ \n",
    "c_{L-1, 0} & \\cdots & c_{L-1, K-1} \n",
    "\\end{pmatrix}\n",
    "= \n",
    "\\frac{4\\pi^2}{n_x\\,n_v}\n",
    "\\tilde{F}^{2D} : \n",
    "\\begin{pmatrix}\n",
    "f_{0,0} & \\cdots & f_{0, n_x-1} \\\\ \n",
    "\\vdots &  & \\vdots \\\\ \n",
    "f_{n_v -1, 0} & \\cdots & f_{n_v-1, n_x-1} \n",
    "\\end{pmatrix}\n",
    "$$\n",
    "\n",
    "Où $\\tilde{F}^{2D}\\in\\mathbb{R}^{L \\times K \\times n_x \\times n_v}$ est le tenseur d'ordre 4 défini par \n",
    "\n",
    "$$ \\tilde{F}^{2D} = [ e^{-ik.x_m}e^{-il.v_n}]_{\\,l,k,m,n}  \\quad l=0,\\cdots,L-1;\\, k=0, \\cdots, K-1;\\, m=0,\\cdots, n_x-1;\\, n=0, \\cdots, n_v-1$$ \n",
    "\n"
   ]
  },
  {
   "cell_type": "code",
   "execution_count": 364,
   "metadata": {},
   "outputs": [],
   "source": [
    "def build_F_tilde_2D(x, v, k_values, l_values):\n",
    "    K = len(k_values) ; L = len(l_values) \n",
    "    nx = len(x) ; nv = len(v) \n",
    "    F_tilde = np.array(\n",
    "        [ np.exp(-k*1j*x[m])*np.exp(-l*1j*v[n]) \n",
    "        for l,k,m,n in it.product(l_values, k_values,range(nx), range(nv))]\n",
    "        , dtype=complex\n",
    "        ).reshape((L, K, nx, nv))  \n",
    "    return F_tilde"
   ]
  },
  {
   "cell_type": "code",
   "execution_count": 365,
   "metadata": {},
   "outputs": [],
   "source": [
    "def fourier_coeffs_2D_tensor(x, v, f, F_tilde):\n",
    "    return ((4*np.pi**2) / (nx*nv)) * np.tensordot(F_tilde, f) "
   ]
  },
  {
   "cell_type": "code",
   "execution_count": 366,
   "metadata": {},
   "outputs": [],
   "source": [
    "F = build_F_tilde_2D(x, v, range(nx), range(nv))"
   ]
  },
  {
   "cell_type": "code",
   "execution_count": 367,
   "metadata": {},
   "outputs": [],
   "source": [
    "coeffs_2 = fourier_coeffs_2D_tensor(x, v, f_zero, F)"
   ]
  },
  {
   "cell_type": "markdown",
   "metadata": {},
   "source": [
    "## Complexité trop élevée : introduction de la FFT "
   ]
  },
  {
   "cell_type": "markdown",
   "metadata": {},
   "source": [
    "La FFT (pour Fast Fourier Transform) est un des algorithmes les plus utilisés de nos jours en ceci que - comme son nom l'indique - il permet d'effectuer une transformée de Fourier (Discrète) très rapidement.\n",
    "\n",
    " Plus exactement sa complexité est un $O(N\\log(N))$ contre $O(N^2)$ pour la transformée de Fourier \"naïve\". "
   ]
  },
  {
   "cell_type": "code",
   "execution_count": 29,
   "metadata": {},
   "outputs": [],
   "source": [
    "c_fft = np.fft.fft2(f_zero)"
   ]
  },
  {
   "cell_type": "markdown",
   "metadata": {},
   "source": [
    "Par définition la FFT calcule la transformée de Fourier discrète du vecteur $f = [f(n)]_{n = 0, \\cdots, \\, N-1}$ selon \n",
    "\n",
    "$$ \\text{FFT}(f)[k] = \\sum\\limits_{n=0}^{N-1} f[k]\\, e^{-2i\\pi kn/N}. $$\n",
    "\n",
    "Ici, on va considérer le vecteur $\\textbf{échantillonné}$ selon $\\{f[n]\\}_{n=0, \\cdots, \\,n_x-1} = \\{f(x_n)\\}$ où $x_n = - \\pi + n \\Delta x$ où $f$ est une fonction de la variable $x\\in(-\\pi, \\pi)$.\n",
    "\n",
    "Or nous sommes intéressés par le calcul des coefficients $c_k$ dans la série de Fourier de $f$, nous allons ainsi exprimer l'approximation en somme de Riemman de $c_k$ en faisant apparaître le terme $\\text{FFT}(f)[k]$.\n",
    "\n",
    "\n",
    "\\begin{align*}\n",
    "c_k(f)  = \\mathcal{F}(f)(k) &= \\int_{(-\\pi, \\pi)} f(x) e^{-ik.x}dx \\\\ \n",
    "                        &\\sim \\Delta x\\,\\sum\\limits_{n=0}^{n_x-1} f(x_n)\\, e^{-ikx_n} \\quad \\text{(Riemann)}\\\\ \n",
    "                        &\\sim \\Delta x\\,\\sum\\limits_{n=0}^{n_x-1} f[n]\\, e^{-ik(-\\pi + n\\Delta x)} \\\\\n",
    "                        &\\sim \\frac{2\\pi}{n_x} \\,e^{ik\\pi} \\sum\\limits_{n=0}^{n_x-1} f[n]\\, e^{-2i\\pi kn /n_x} \\\\ \n",
    "                        &\\sim \\frac{2\\pi}{n_x} e^{ik\\pi}\\, \\text{FFT}(f)[k].\n",
    "\\end{align*} \n",
    "\n",
    "On obtient ainsi les coefficients dans la série de Fourier de $f$ pour $k=0, \\cdots, n_x-1$, et l'extension à $f$ définie sur deux dimensions $(x,v) \\in (-\\pi, \\pi)^2$ pour notre cas d'étude est naturelle : \n",
    "\n",
    "$$ c_{k,l}(f) \\sim \\frac{4 \\pi^2}{n_x\\,n_v}\\,e^{ik\\pi}e^{il\\pi}\\,\\text{FFT2}(f)[k,l] \\quad \\text{pour} \\quad k = 0,\\cdots, n_x-1;\\, l=0,\\cdots, n_v-1$$ \n",
    "\n",
    "$\\textbf{Remarque Importante}$ : On voit ainsi qu'afin d'utiliser la FFT, il nous est **imposé** de choisir $K = n_x$, $L=n_v$ dans la discrétisation en séries de Fourier. \n"
   ]
  },
  {
   "cell_type": "markdown",
   "metadata": {},
   "source": [
    "Ainsi la reconstruction de f à partir de sa série de fourier tronquée s'écrit \n",
    "\n",
    "\\begin{align*}\n",
    " f(x,v) & \\sim \\frac{1}{4 \\pi^2} \\sum\\limits_{k=0}^{n_x -1}\\sum\\limits_{l=0}^{n_v-1} c_{k,l}(f) \\, e^{ik.x}e^{il.v} \\\\ \n",
    " & \\sim \\frac{1}{n_x\\,n_v} \\sum\\limits_{k=0}^{n_x-1}\\sum\\limits_{l=0}^{n_v-1} \\left(e^{ik\\pi}\\,e^{il\\pi}\\,\\text{FFT2}(f)[k,l]\\right) e^{ik.x}\\,e ^{il.v}\n",
    "\\end{align*}"
   ]
  },
  {
   "cell_type": "code",
   "execution_count": 370,
   "metadata": {},
   "outputs": [],
   "source": [
    "l_values = np.arange(-nv//2, nv//2)"
   ]
  },
  {
   "cell_type": "code",
   "execution_count": 445,
   "metadata": {},
   "outputs": [],
   "source": [
    "def fourier_coeffs_2D(x, v, k_values, l_values, f):\n",
    "    nx = len(x); nv = len(v) \n",
    "    K = len(k_values); L = len(l_values) \n",
    "    c_fft = np.fft.fft2(f) \n",
    "    c_shifted = np.fft.fftshift(c_fft) \n",
    "    coeffs = np.array(\n",
    "        [c_shifted[l+nv//2, k+nx//2] * np.exp(1j*k*np.pi) * np.exp(1j*l*np.pi)\n",
    "        for l,k in it.product(l_values, k_values)]\n",
    "    ).reshape((L,K))\n",
    "    return coeffs \n",
    "\n",
    "def fourier_rec_2D(x, v, k_values, l_values, c):\n",
    "    reconstruction = (1/(nx*nv)) * np.array(\n",
    "        [np.sum(\n",
    "            [c[l+nv//2, k+nx//2] * np.exp(1j*k*x[n]) * np.exp(1j*l*v[m])\n",
    "            for l,k in it.product(l_values, k_values)]\n",
    "            )\n",
    "            for m,n in np.ndindex((nv,nx))]\n",
    "    ).reshape((nv,nx))\n",
    "    return reconstruction\n",
    "\n",
    "def fourier_interpolation_2D(x, v, k_values, l_values, c):\n",
    "    interpol = lambda _xv, : (1/(nx*nv)) * np.sum(\n",
    "        [c[l+nv//2, k+nx//2] * np.exp(1j*k*_xv[0]) * np.exp(1j*l*_xv[1])\n",
    "        for l,k in it.product(l_values, k_values)]\n",
    "        )\n",
    "    return interpol"
   ]
  },
  {
   "cell_type": "code",
   "execution_count": 374,
   "metadata": {},
   "outputs": [],
   "source": [
    "c = fourier_coeffs_2D(x, v, k_values, l_values, f_zero) \n",
    "rec = fourier_rec_2D(x, v, k_values, l_values, c)"
   ]
  },
  {
   "cell_type": "code",
   "execution_count": 375,
   "metadata": {},
   "outputs": [
    {
     "data": {
      "text/plain": [
       "<matplotlib.contour.QuadContourSet at 0x7f0d8c7a6fb0>"
      ]
     },
     "execution_count": 375,
     "metadata": {},
     "output_type": "execute_result"
    },
    {
     "data": {
      "image/png": "[encoded data removed]",
      "text/plain": [
       "<Figure size 640x480 with 1 Axes>"
      ]
     },
     "metadata": {},
     "output_type": "display_data"
    }
   ],
   "source": [
    "plt.contourf(f_zero)"
   ]
  },
  {
   "cell_type": "code",
   "execution_count": 376,
   "metadata": {},
   "outputs": [
    {
     "data": {
      "text/plain": [
       "<matplotlib.colorbar.Colorbar at 0x7f0da3afc250>"
      ]
     },
     "execution_count": 376,
     "metadata": {},
     "output_type": "execute_result"
    },
    {
     "data": {
      "image/png": "[encoded data removed]",
      "text/plain": [
       "<Figure size 640x480 with 2 Axes>"
      ]
     },
     "metadata": {},
     "output_type": "display_data"
    }
   ],
   "source": [
    "plt.imshow(np.abs(f_zero-rec))\n",
    "plt.colorbar() "
   ]
  },
  {
   "cell_type": "markdown",
   "metadata": {},
   "source": [
    "## Schéma de Splitting semi-lagrangien"
   ]
  },
  {
   "cell_type": "markdown",
   "metadata": {},
   "source": [
    "Nous détaillons ici le schéma de splitting que nous allons mettre en place pour la résolution du système de Vlasov-Poisson. \n",
    "\n",
    "1. $\\textbf{Initialisation}$ : On se donne une condition initiale $f_0$, avec laquelle on calcule le champ initial $E_0$ en résolvant $(\\text{P})$\n",
    "2. $\\textbf{Itération}$ : \n",
    "    - A partir de $(E^n, \\,f^n)$ calculés à l'étape $n$ on calcule l'advection en $v$ sur un demi pas de temps $f^*(x,v) = f^n(x, v + E^n(x)\\,\\frac{\\Delta t}{2})$ qui est solution de\n",
    "        $$ \\partial_t f - E^n(x)\\,\\partial_v f = 0.$$\n",
    "        Les valeurs de $f^*$ étant obtenues par interpolation de $f^n$ selon la dimension $v$.\n",
    "\n",
    "    - A partir de $f^*$ on calcule l'advection en $x$ sur un pas de temps complet $f^{**}(x,v) = f^*(x - v\\,\\Delta t, v)$ qui est solution de \n",
    "        $$ \\partial_t f + v \\,\\partial_x f = 0.$$ \n",
    "        Les valeurs de $f^{**}$ étant également obtenues par interpolation de $f^{*}$ selon la dimension $x$.\n",
    "\n",
    "    - On calcule le nouveau champ électrique $E^{n+1}(x)$ en résolvant $(\\text{P})$ à partir de la distribution $f^{**}$.\n",
    "    \n",
    "    - Enfin, on effectue une dernière advection également avec une étape d'interpolation en $v$ à partir du nouveau champ électrique et de $f^{**}$ pour obtenir $f^{n+1}(x,v) = f^{**}(x, v+E^{n+1}(x)\\,\\frac{\\Delta t}{2})$ qui est solution de \n",
    "        $$ \\partial_t f - E^{n+1}(x)\\,\\partial_v f = 0.$$ \n",
    "    \n",
    "    - On stocke $(f^{n+1}, \\,E^{n+1})$.\n"
   ]
  },
  {
   "cell_type": "markdown",
   "metadata": {},
   "source": [
    "## Interpolation 1D "
   ]
  },
  {
   "cell_type": "markdown",
   "metadata": {},
   "source": [
    "On voit ainsi dans le schéma qu'il n'est nécessaire de réaliser des interpolations qu'en une dimension selon si l'on souhaite calculer l'advection en $x$ ou en $v$ "
   ]
  },
  {
   "cell_type": "code",
   "execution_count": 380,
   "metadata": {},
   "outputs": [],
   "source": [
    "def x_fourier_interpolator(x, k_values, f, i):\n",
    "    # fixed v = v[i]\n",
    "    _f = f[i,:] \n",
    "    c = fourier_coeffs(x, k_values, _f)\n",
    "    s = fourier_interpolator(x, k_values, c)\n",
    "    return s \n",
    "\n",
    "def v_fourier_interpolator(v, l_values, f, j):\n",
    "    # fixed x = x[j]\n",
    "    _f = f[:,j]\n",
    "    F = build_F_tilde(v, l_values) \n",
    "    c = fourier_coeffs(v, l_values, _f)\n",
    "    s = fourier_interpolator(v, l_values, c)\n",
    "    return s"
   ]
  },
  {
   "cell_type": "code",
   "execution_count": 381,
   "metadata": {},
   "outputs": [],
   "source": [
    "def build_x_interpolators(x, v, k_values, f):\n",
    "    nv = len(v) \n",
    "    x_interpolators = [x_fourier_interpolator(x, k_values, f, i) for i in range(nv)] \n",
    "    return x_interpolators \n",
    "\n",
    "def build_v_interpolators(x, v, l_values, f):\n",
    "    nx = len(x) \n",
    "    v_interpolators = [v_fourier_interpolator(v, l_values, f, j) for j in range(nx)]\n",
    "    return v_interpolators  "
   ]
  },
  {
   "cell_type": "markdown",
   "metadata": {},
   "source": [
    "## Code pour l'advection "
   ]
  },
  {
   "cell_type": "code",
   "execution_count": 388,
   "metadata": {},
   "outputs": [],
   "source": [
    "def local_x_advection(x, v, f, i, j, time_step, interpolators):\n",
    "    ## Useless in the case of fourier interpolators \n",
    "    ## being intrinsically periodic\n",
    "    _x = x[j]; _v = v[i] \n",
    "    x_tilde = _x - _v*time_step\n",
    "    # # Test cases to enforce periodic boundary conditions \n",
    "    # if x_tilde < x[0]:\n",
    "    #     # In case one steps out of the grid from the left \n",
    "    #     point = x[-1] - (x[0] - x_tilde) \n",
    "    # elif x_tilde >= x[-1]:\n",
    "    #     # In case one steps out of the grid from the right \n",
    "    #     point = x[0] + (x_tilde - x[-1])\n",
    "    # else:\n",
    "    #     point = x_tilde \n",
    "\n",
    "    ### interpolator for fixed v = v[i] \n",
    "    point = x_tilde \n",
    "    return interpolators[i](point) \n",
    "\n",
    "def local_v_advection(x, v, f, i, j, time_step, _E, interpolators):\n",
    "    ## Useless in the case of fourier interpolators \n",
    "    ## being intrinsically periodic \n",
    "    _x = x[j]; _v = v[i] \n",
    "    v_tilde = _v + _E[j]*time_step\n",
    "    # # Test cases for periodic boundary conditions \n",
    "    # if v_tilde < v[0]:\n",
    "    #     # In case one steps out of the grid from the left \n",
    "    #     point = v[-1] - (v[0] - v_tilde) \n",
    "    # elif v_tilde >= v[-1]:\n",
    "    #     # In case one steps out of the grid from the right \n",
    "    #     point = v[0] + (v_tilde - v[-1])\n",
    "    # else:\n",
    "    #     point = v_tilde \n",
    "    \n",
    "    ###interpolator for fixed x = x[j] \n",
    "    point = v_tilde \n",
    "    return interpolators[j](point) \n",
    "\n",
    "def x_advection(x, v, k_values, f, time_step):\n",
    "    nx = len(x) ; nv = len(v) \n",
    "    x_interpolators = build_x_interpolators(x, v, k_values, f)\n",
    "    new_f = [\n",
    "        local_x_advection(x, v, f, i, j, time_step, x_interpolators)\n",
    "        for i,j in np.ndindex((nv-1,nx-1))\n",
    "    ]\n",
    "    new_f = np.array(new_f)\n",
    "    new_f.resize((nv-1,nx-1)) \n",
    "    new_f = np.append(new_f, np.zeros((nv-1, 1)), axis=1)\n",
    "    new_f = np.append(new_f, np.zeros((1, nx)), axis=0) \n",
    "    # v periodic BC \n",
    "    new_f[-1,:] = new_f[0,:] \n",
    "    # x Periodic BC \n",
    "    new_f[:,-1] = new_f[:,0]\n",
    "    return new_f \n",
    "\n",
    "def v_advection(x, v, l_values, f, time_step, _E):\n",
    "    nx = len(x) ; nv = len(v) \n",
    "    v_interpolators = build_v_interpolators(x, v, l_values, f) \n",
    "    new_f = [\n",
    "        local_v_advection(x, v, f, i, j, time_step, _E, v_interpolators) \n",
    "        for i,j in np.ndindex((nv-1,nx-1))\n",
    "    ]\n",
    "    new_f = np.array(new_f)\n",
    "    new_f.resize((nv-1, nx-1))\n",
    "    new_f = np.append(new_f, np.zeros((nv-1, 1)), axis=1)\n",
    "    new_f = np.append(new_f, np.zeros((1, nx)), axis=0) \n",
    "    # v periodic BC \n",
    "    new_f[-1,:] = new_f[0,:] \n",
    "    # x Periodic BC \n",
    "    new_f[:,-1] = new_f[:,0]\n",
    "    return new_f"
   ]
  },
  {
   "cell_type": "code",
   "execution_count": 449,
   "metadata": {},
   "outputs": [],
   "source": [
    "def advection_step(x, v, k_values, l_values, f, _E, time_step):\n",
    "    nx = len(x); nv = len(v)\n",
    "    c = fourier_coeffs_2D(x, v, k_values, l_values, f) \n",
    "    interpol = fourier_interpolation_2D(x, v, k_values, l_values, c) \n",
    "    # print(\"interpolation and fourier coeffs computed\")\n",
    "    inter_points = [(x[n] - time_step*v[m], v[m] + 0.5*time_step*_E[n])\n",
    "        for n,m in np.ndindex((nx,nv))]\n",
    "    # print(\"inter points computed\") \n",
    "    f_star_two = list(map(interpol, inter_points))\n",
    "    f_star_two = np.array(f_star_two).reshape((nx,nv)).transpose() \n",
    "    # print(\"f** computed\") \n",
    "    new_E = solve_poisson(x, v, k_values, f_star_two)\n",
    "    # print(\"Poisson solved\") \n",
    "    c_two = fourier_coeffs_2D(x, v, k_values, l_values, f_star_two) \n",
    "    interpol_two = fourier_interpolation_2D(x, v, k_values, l_values, c_two)\n",
    "    inter_points_two = [(x[i], v[j] + 0.5*time_step*_E[i])\n",
    "        for i,j in np.ndindex((nx, nv))]\n",
    "    # print(\"inter points computed\") \n",
    "    new_f = list(map(interpol_two, inter_points_two))\n",
    "    new_f = np.array(new_f).reshape((nx,nv)).transpose() \n",
    "    # print(\"new f computed\") \n",
    "    return new_f, new_E "
   ]
  },
  {
   "cell_type": "code",
   "execution_count": 453,
   "metadata": {},
   "outputs": [
    {
     "name": "stdout",
     "output_type": "stream",
     "text": [
      "interpolation and fourier coeffs computed\n",
      "inter points computed\n",
      "f** computed\n",
      "Poisson solved\n",
      "inter points computed\n",
      "new f computed\n"
     ]
    }
   ],
   "source": [
    "f_one, E_one = advection_step(x, v, k_values, l_values, f_zero, E_zero, time_step=0.01)"
   ]
  },
  {
   "cell_type": "code",
   "execution_count": 454,
   "metadata": {},
   "outputs": [
    {
     "data": {
      "text/plain": [
       "<matplotlib.contour.QuadContourSet at 0x7f0d8d5f7fd0>"
      ]
     },
     "execution_count": 454,
     "metadata": {},
     "output_type": "execute_result"
    },
    {
     "data": {
      "image/png": "[encoded data removed]",
      "text/plain": [
       "<Figure size 640x480 with 1 Axes>"
      ]
     },
     "metadata": {},
     "output_type": "display_data"
    }
   ],
   "source": [
    "plt.contourf(f_one)"
   ]
  },
  {
   "cell_type": "code",
   "execution_count": 389,
   "metadata": {},
   "outputs": [],
   "source": [
    "f_one = x_advection(x, v, k_values, f_zero, time_step=0.01)"
   ]
  },
  {
   "cell_type": "code",
   "execution_count": 399,
   "metadata": {},
   "outputs": [],
   "source": [
    "f_two = v_advection(x, v, l_values, f_zero, time_step=0.01, _E=E_zero)"
   ]
  },
  {
   "cell_type": "code",
   "execution_count": 397,
   "metadata": {},
   "outputs": [
    {
     "data": {
      "text/plain": [
       "[<matplotlib.lines.Line2D at 0x7f0da3614fd0>]"
      ]
     },
     "execution_count": 397,
     "metadata": {},
     "output_type": "execute_result"
    },
    {
     "data": {
      "image/png": "[encoded data removed]",
      "text/plain": [
       "<Figure size 640x480 with 1 Axes>"
      ]
     },
     "metadata": {},
     "output_type": "display_data"
    }
   ],
   "source": [
    "plt.plot(np.abs(E_zero))"
   ]
  },
  {
   "cell_type": "code",
   "execution_count": 400,
   "metadata": {},
   "outputs": [
    {
     "data": {
      "text/plain": [
       "<matplotlib.contour.QuadContourSet at 0x7f0da3509090>"
      ]
     },
     "execution_count": 400,
     "metadata": {},
     "output_type": "execute_result"
    },
    {
     "data": {
      "image/png": "[encoded data removed]",
      "text/plain": [
       "<Figure size 640x480 with 1 Axes>"
      ]
     },
     "metadata": {},
     "output_type": "display_data"
    }
   ],
   "source": [
    "plt.contourf(f_one)"
   ]
  },
  {
   "cell_type": "code",
   "execution_count": 401,
   "metadata": {},
   "outputs": [
    {
     "data": {
      "text/plain": [
       "<matplotlib.contour.QuadContourSet at 0x7f0da3589d80>"
      ]
     },
     "execution_count": 401,
     "metadata": {},
     "output_type": "execute_result"
    },
    {
     "data": {
      "image/png": "[encoded data removed]",
      "text/plain": [
       "<Figure size 640x480 with 1 Axes>"
      ]
     },
     "metadata": {},
     "output_type": "display_data"
    }
   ],
   "source": [
    "plt.contourf(f_two)"
   ]
  },
  {
   "cell_type": "code",
   "execution_count": 455,
   "metadata": {},
   "outputs": [],
   "source": [
    "class semi_lagrangian_solver():\n",
    "\n",
    "    def __init__(self, nx, nv, K, L, dt, a, vmax):\n",
    "        self.dt = dt \n",
    "        self.nx = nx \n",
    "        self.nv = nv\n",
    "        self.K = K \n",
    "        self.k_values = np.arange(-K//2, K//2) \n",
    "        self.L = L \n",
    "        self.l_values = np.arange(-L//2, L//2) \n",
    "        self.a = a \n",
    "        self.vmax = vmax\n",
    "        self.x = np.linspace(-a, a, nx)\n",
    "        self.v = np.linspace(-vmax, vmax, nv)  \n",
    "        self._E = None \n",
    "        self.f_zero = None \n",
    "        self.f = None \n",
    "        self.solutions = []\n",
    "        self.electric_fields = [] \n",
    "\n",
    "    def initialisation(self, f):\n",
    "        xx, vv = np.meshgrid(self.x, self.v)\n",
    "        self.f_zero = f(xx, vv)   \n",
    "        _E_zero = solve_poisson(self.x, self.v, self.k_values, self.f_zero) \n",
    "        self._E = _E_zero \n",
    "        self.f = self.f_zero \n",
    "        self.solutions.append(self.f_zero)\n",
    "        self.electric_fields.append(_E_zero)\n",
    "\n",
    "    def solve(self, n_steps):  \n",
    "        for i in range(n_steps):\n",
    "            # f_star = v_advection(self.x, self.v, self.l_values, self.f, 0.5*self.dt, self._E)\n",
    "            # f_star_two = x_advection(self.x, self.v, self.k_values, f_star, self.dt) \n",
    "            # new_E = solve_poisson(self.x, self.v, self.k_values, f_star_two)\n",
    "            # new_f = v_advection(self.x, self.v, self.l_values, f_star_two, 0.5*self.dt, new_E) \n",
    "\n",
    "            ## To try only transport with a fixed electric field \n",
    "            # new_f = x_advection(self.x, self.v, self.k_values, self.f, self.dt)\n",
    "            # new_E = self._E\n",
    "\n",
    "            new_f, new_E = advection_step(\n",
    "                self.x,\n",
    "                self.v,\n",
    "                self.k_values,\n",
    "                self.l_values,\n",
    "                self.f,\n",
    "                self._E,\n",
    "                self.dt\n",
    "                )\n",
    "            \n",
    "            self.f = new_f \n",
    "            self._E = new_E\n",
    "            self.solutions.append(new_f) \n",
    "            self.electric_fields.append(new_E)\n",
    "    \n",
    "    def save_solutions(self, dir):\n",
    "        for i, f in enumerate(self.solutions):\n",
    "            plt.contourf(self.x, self.v, f)\n",
    "            plt.xlabel(r'$x$'); plt.ylabel(r'$v$') \n",
    "            plt.title(r\"$f$ at t={} s\".format(i*self.dt))\n",
    "            plt.savefig(dir + \"f_{:03d}.png\".format(i)) \n",
    "\n",
    "    def save_electric_field(self, dir): \n",
    "        for i, _E in enumerate(self.electric_fields):\n",
    "            plt.plot(self.x, _E)\n",
    "            plt.xlabel(r'$x$')\n",
    "            plt.title(r\"$E$ at t={}s\".format(i*self.dt))\n",
    "            plt.savefig(dir + \"E_{:03d}.png\".format(i))\n",
    "    \n",
    "    def track_dominant_fourier_mode(self): \n",
    "        self.dominant_mode = [] \n",
    "        for _E in self.electric_fields:\n",
    "            c = np.abs(np.fft.fft(_E)) \n",
    "            c.sort() \n",
    "            self.dominant_mode.append(c[-1]) \n",
    "        "
   ]
  },
  {
   "cell_type": "code",
   "execution_count": 456,
   "metadata": {},
   "outputs": [],
   "source": [
    "solver = semi_lagrangian_solver(nx=2**5, nv=2**5, K=2**5, L=2**5, dt=0.01, a=np.pi, vmax=np.pi)\n"
   ]
  },
  {
   "cell_type": "code",
   "execution_count": 457,
   "metadata": {},
   "outputs": [],
   "source": [
    "solver.initialisation(f) "
   ]
  },
  {
   "cell_type": "code",
   "execution_count": 458,
   "metadata": {},
   "outputs": [
    {
     "data": {
      "text/plain": [
       "<matplotlib.contour.QuadContourSet at 0x7f0d8d477550>"
      ]
     },
     "execution_count": 458,
     "metadata": {},
     "output_type": "execute_result"
    },
    {
     "data": {
      "image/png": "[encoded data removed]",
      "text/plain": [
       "<Figure size 640x480 with 1 Axes>"
      ]
     },
     "metadata": {},
     "output_type": "display_data"
    }
   ],
   "source": [
    "plt.contourf(solver.f_zero)"
   ]
  },
  {
   "cell_type": "code",
   "execution_count": 459,
   "metadata": {},
   "outputs": [
    {
     "data": {
      "text/plain": [
       "[<matplotlib.lines.Line2D at 0x7f0d8d31e080>]"
      ]
     },
     "execution_count": 459,
     "metadata": {},
     "output_type": "execute_result"
    },
    {
     "data": {
      "image/png": "[encoded data removed]",
      "text/plain": [
       "<Figure size 640x480 with 1 Axes>"
      ]
     },
     "metadata": {},
     "output_type": "display_data"
    }
   ],
   "source": [
    "np.shape(solver.f)\n",
    "plt.plot(solver.x, np.abs(solver._E))\n"
   ]
  },
  {
   "cell_type": "code",
   "execution_count": 460,
   "metadata": {},
   "outputs": [
    {
     "name": "stdout",
     "output_type": "stream",
     "text": [
      "interpolation and fourier coeffs computed\n",
      "inter points computed\n",
      "f** computed\n",
      "Poisson solved\n",
      "inter points computed\n",
      "new f computed\n",
      "interpolation and fourier coeffs computed\n",
      "inter points computed\n",
      "f** computed\n",
      "Poisson solved\n",
      "inter points computed\n",
      "new f computed\n",
      "interpolation and fourier coeffs computed\n",
      "inter points computed\n",
      "f** computed\n",
      "Poisson solved\n",
      "inter points computed\n",
      "new f computed\n",
      "interpolation and fourier coeffs computed\n",
      "inter points computed\n",
      "f** computed\n",
      "Poisson solved\n",
      "inter points computed\n",
      "new f computed\n",
      "interpolation and fourier coeffs computed\n",
      "inter points computed\n",
      "f** computed\n",
      "Poisson solved\n",
      "inter points computed\n",
      "new f computed\n",
      "interpolation and fourier coeffs computed\n",
      "inter points computed\n",
      "f** computed\n",
      "Poisson solved\n",
      "inter points computed\n",
      "new f computed\n",
      "interpolation and fourier coeffs computed\n",
      "inter points computed\n",
      "f** computed\n",
      "Poisson solved\n",
      "inter points computed\n",
      "new f computed\n",
      "interpolation and fourier coeffs computed\n",
      "inter points computed\n",
      "f** computed\n",
      "Poisson solved\n",
      "inter points computed\n",
      "new f computed\n",
      "interpolation and fourier coeffs computed\n",
      "inter points computed\n",
      "f** computed\n",
      "Poisson solved\n",
      "inter points computed\n",
      "new f computed\n",
      "interpolation and fourier coeffs computed\n",
      "inter points computed\n",
      "f** computed\n",
      "Poisson solved\n",
      "inter points computed\n",
      "new f computed\n",
      "interpolation and fourier coeffs computed\n",
      "inter points computed\n",
      "f** computed\n",
      "Poisson solved\n",
      "inter points computed\n",
      "new f computed\n",
      "interpolation and fourier coeffs computed\n",
      "inter points computed\n",
      "f** computed\n",
      "Poisson solved\n",
      "inter points computed\n",
      "new f computed\n",
      "interpolation and fourier coeffs computed\n",
      "inter points computed\n",
      "f** computed\n",
      "Poisson solved\n",
      "inter points computed\n",
      "new f computed\n",
      "interpolation and fourier coeffs computed\n",
      "inter points computed\n",
      "f** computed\n",
      "Poisson solved\n",
      "inter points computed\n",
      "new f computed\n",
      "interpolation and fourier coeffs computed\n",
      "inter points computed\n",
      "f** computed\n",
      "Poisson solved\n",
      "inter points computed\n",
      "new f computed\n",
      "interpolation and fourier coeffs computed\n",
      "inter points computed\n",
      "f** computed\n",
      "Poisson solved\n",
      "inter points computed\n",
      "new f computed\n",
      "interpolation and fourier coeffs computed\n",
      "inter points computed\n",
      "f** computed\n",
      "Poisson solved\n",
      "inter points computed\n",
      "new f computed\n",
      "interpolation and fourier coeffs computed\n",
      "inter points computed\n",
      "f** computed\n",
      "Poisson solved\n",
      "inter points computed\n",
      "new f computed\n",
      "interpolation and fourier coeffs computed\n",
      "inter points computed\n",
      "f** computed\n",
      "Poisson solved\n",
      "inter points computed\n",
      "new f computed\n",
      "interpolation and fourier coeffs computed\n",
      "inter points computed\n",
      "f** computed\n",
      "Poisson solved\n",
      "inter points computed\n",
      "new f computed\n",
      "interpolation and fourier coeffs computed\n",
      "inter points computed\n",
      "f** computed\n",
      "Poisson solved\n",
      "inter points computed\n",
      "new f computed\n",
      "interpolation and fourier coeffs computed\n",
      "inter points computed\n",
      "f** computed\n",
      "Poisson solved\n",
      "inter points computed\n",
      "new f computed\n",
      "interpolation and fourier coeffs computed\n",
      "inter points computed\n",
      "f** computed\n",
      "Poisson solved\n",
      "inter points computed\n",
      "new f computed\n",
      "interpolation and fourier coeffs computed\n",
      "inter points computed\n",
      "f** computed\n",
      "Poisson solved\n",
      "inter points computed\n",
      "new f computed\n",
      "interpolation and fourier coeffs computed\n",
      "inter points computed\n",
      "f** computed\n",
      "Poisson solved\n",
      "inter points computed\n",
      "new f computed\n",
      "interpolation and fourier coeffs computed\n",
      "inter points computed\n",
      "f** computed\n",
      "Poisson solved\n",
      "inter points computed\n",
      "new f computed\n",
      "interpolation and fourier coeffs computed\n",
      "inter points computed\n",
      "f** computed\n",
      "Poisson solved\n",
      "inter points computed\n",
      "new f computed\n",
      "interpolation and fourier coeffs computed\n",
      "inter points computed\n",
      "f** computed\n",
      "Poisson solved\n",
      "inter points computed\n",
      "new f computed\n",
      "interpolation and fourier coeffs computed\n",
      "inter points computed\n",
      "f** computed\n",
      "Poisson solved\n",
      "inter points computed\n",
      "new f computed\n",
      "interpolation and fourier coeffs computed\n",
      "inter points computed\n",
      "f** computed\n",
      "Poisson solved\n",
      "inter points computed\n",
      "new f computed\n",
      "interpolation and fourier coeffs computed\n",
      "inter points computed\n",
      "f** computed\n",
      "Poisson solved\n",
      "inter points computed\n",
      "new f computed\n",
      "interpolation and fourier coeffs computed\n",
      "inter points computed\n",
      "f** computed\n",
      "Poisson solved\n",
      "inter points computed\n",
      "new f computed\n",
      "interpolation and fourier coeffs computed\n",
      "inter points computed\n",
      "f** computed\n",
      "Poisson solved\n",
      "inter points computed\n",
      "new f computed\n",
      "interpolation and fourier coeffs computed\n",
      "inter points computed\n",
      "f** computed\n",
      "Poisson solved\n",
      "inter points computed\n",
      "new f computed\n",
      "interpolation and fourier coeffs computed\n",
      "inter points computed\n",
      "f** computed\n",
      "Poisson solved\n",
      "inter points computed\n",
      "new f computed\n",
      "interpolation and fourier coeffs computed\n",
      "inter points computed\n",
      "f** computed\n",
      "Poisson solved\n",
      "inter points computed\n",
      "new f computed\n",
      "interpolation and fourier coeffs computed\n",
      "inter points computed\n",
      "f** computed\n",
      "Poisson solved\n",
      "inter points computed\n",
      "new f computed\n",
      "interpolation and fourier coeffs computed\n",
      "inter points computed\n",
      "f** computed\n",
      "Poisson solved\n",
      "inter points computed\n",
      "new f computed\n",
      "interpolation and fourier coeffs computed\n",
      "inter points computed\n",
      "f** computed\n",
      "Poisson solved\n",
      "inter points computed\n",
      "new f computed\n",
      "interpolation and fourier coeffs computed\n",
      "inter points computed\n",
      "f** computed\n",
      "Poisson solved\n",
      "inter points computed\n",
      "new f computed\n",
      "interpolation and fourier coeffs computed\n",
      "inter points computed\n",
      "f** computed\n",
      "Poisson solved\n",
      "inter points computed\n",
      "new f computed\n",
      "interpolation and fourier coeffs computed\n",
      "inter points computed\n",
      "f** computed\n",
      "Poisson solved\n",
      "inter points computed\n",
      "new f computed\n",
      "interpolation and fourier coeffs computed\n",
      "inter points computed\n",
      "f** computed\n",
      "Poisson solved\n",
      "inter points computed\n",
      "new f computed\n",
      "interpolation and fourier coeffs computed\n",
      "inter points computed\n",
      "f** computed\n",
      "Poisson solved\n",
      "inter points computed\n",
      "new f computed\n",
      "interpolation and fourier coeffs computed\n",
      "inter points computed\n",
      "f** computed\n",
      "Poisson solved\n",
      "inter points computed\n",
      "new f computed\n",
      "interpolation and fourier coeffs computed\n",
      "inter points computed\n",
      "f** computed\n",
      "Poisson solved\n",
      "inter points computed\n",
      "new f computed\n",
      "interpolation and fourier coeffs computed\n",
      "inter points computed\n",
      "f** computed\n",
      "Poisson solved\n",
      "inter points computed\n",
      "new f computed\n",
      "interpolation and fourier coeffs computed\n",
      "inter points computed\n",
      "f** computed\n",
      "Poisson solved\n",
      "inter points computed\n",
      "new f computed\n",
      "interpolation and fourier coeffs computed\n",
      "inter points computed\n",
      "f** computed\n",
      "Poisson solved\n",
      "inter points computed\n",
      "new f computed\n",
      "interpolation and fourier coeffs computed\n",
      "inter points computed\n",
      "f** computed\n",
      "Poisson solved\n",
      "inter points computed\n",
      "new f computed\n"
     ]
    }
   ],
   "source": [
    "n = 50\n",
    "solver.solve(n_steps=n)"
   ]
  },
  {
   "cell_type": "code",
   "execution_count": 461,
   "metadata": {},
   "outputs": [],
   "source": [
    "import matplotlib.animation as animation "
   ]
  },
  {
   "cell_type": "code",
   "execution_count": 462,
   "metadata": {},
   "outputs": [],
   "source": [
    "writergif = animation.PillowWriter(fps=10)"
   ]
  },
  {
   "cell_type": "code",
   "execution_count": 463,
   "metadata": {},
   "outputs": [
    {
     "name": "stderr",
     "output_type": "stream",
     "text": [
      "/home/murloc/.local/lib/python3.10/site-packages/numpy/ma/core.py:2826: ComplexWarning: Casting complex values to real discards the imaginary part\n",
      "  _data = np.array(data, dtype=dtype, copy=copy,\n"
     ]
    },
    {
     "data": {
      "image/png": "[encoded data removed]",
      "text/plain": [
       "<Figure size 640x480 with 1 Axes>"
      ]
     },
     "metadata": {},
     "output_type": "display_data"
    }
   ],
   "source": [
    "fig, ax = plt.subplots() \n",
    "ax.set_xlabel(r'$x$')\n",
    "ax.set_ylabel(r'$v$')\n",
    "\n",
    "def animate(i):\n",
    "    ax.clear() \n",
    "    ax.contourf(solver.x, solver.v , solver.solutions[i], cmap='inferno')\n",
    "    return \n",
    "\n",
    "anim = animation.FuncAnimation(fig, animate, frames=n, interval=200, repeat=True)  \n",
    "anim.save('graphs/fourier/distrib_maxwell_n={}.gif'.format(n), writer=writergif)\n",
    "plt.show() "
   ]
  },
  {
   "cell_type": "code",
   "execution_count": null,
   "metadata": {},
   "outputs": [],
   "source": []
  }
 ],
 "metadata": {
  "kernelspec": {
   "display_name": "Python 3.10.6 64-bit",
   "language": "python",
   "name": "python3"
  },
  "language_info": {
   "codemirror_mode": {
    "name": "ipython",
    "version": 3
   },
   "file_extension": ".py",
   "mimetype": "text/x-python",
   "name": "python",
   "nbconvert_exporter": "python",
   "pygments_lexer": "ipython3",
   "version": "3.10.6"
  },
  "orig_nbformat": 4,
  "vscode": {
   "interpreter": {
    "hash": "916dbcbb3f70747c44a77c7bcd40155683ae19c65e1c03b4aa3499c5328201f1"
   }
  }
 },
 "nbformat": 4,
 "nbformat_minor": 2
}
