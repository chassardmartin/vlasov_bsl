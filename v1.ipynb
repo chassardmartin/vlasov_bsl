{
 "cells": [
  {
   "cell_type": "markdown",
   "metadata": {},
   "source": [
    "# TP : Résolution de l'équation de Vlasov-Poisson 1D-1D par une méthode semi-lagrangienne"
   ]
  },
  {
   "cell_type": "code",
   "execution_count": 2,
   "metadata": {},
   "outputs": [],
   "source": [
    "# Basic imports \n",
    "import numpy as np \n",
    "import matplotlib.pyplot as plt "
   ]
  },
  {
   "cell_type": "markdown",
   "metadata": {},
   "source": [
    "On s'intéresse à l'équation de Vlasov  (évolution de la distribution des électrons dans un plasma) couplée avec l'équation de Poisson (évolution du champ électrique) \n",
    "\n",
    "\\begin{equation}\n",
    "\\begin{cases}\n",
    "\\partial_t f + v \\,\\partial_x f - E(x,t) \\,\\partial_v f = 0 \\\\ \n",
    "\\\\ \n",
    "\\partial_x E = \\rho(x,t) = 1 - \\int f(x,v,t) \\,dv \n",
    "\\end{cases}\n",
    "\\end{equation} \n"
   ]
  },
  {
   "cell_type": "markdown",
   "metadata": {},
   "source": [
    "## Discrétisation de l'espace des phases "
   ]
  },
  {
   "cell_type": "markdown",
   "metadata": {},
   "source": [
    "On considère un espace des phases en deux dimensions (une d'espace et une de vitesse) $\\Omega = ]-\\pi, \\pi[^2 \\subset \\mathbb{R}^2$ que l'on va discrétiser par une grille uniforme $\\mathcal{M} = \\{(x_i, v_j)\\}_{i= 0\\,, \\cdots, \\,n_x-1\\,,\\,j=0\\,, \\cdots,\\, n_v-1, }\\subset \\Omega$ "
   ]
  },
  {
   "cell_type": "code",
   "execution_count": 3,
   "metadata": {},
   "outputs": [],
   "source": [
    "nx = 100; nv = 100\n",
    "dx = 2*np.pi / (2*nx) ; dv =2*np.pi / (2*nv)\n",
    "dt = 1e-2\n",
    "L = np.pi   \n",
    "x = np.linspace(-L, L, num=nx, dtype=float)\n",
    "v = np.linspace(-L, L, num=nv, dtype=float)\n",
    "xx, vv = np.meshgrid(x,v) "
   ]
  },
  {
   "cell_type": "markdown",
   "metadata": {},
   "source": [
    "## Condition initiale "
   ]
  },
  {
   "cell_type": "markdown",
   "metadata": {},
   "source": [
    "On se donne une condition initiale en distribution de particules $f_0(x,v)$ "
   ]
  },
  {
   "cell_type": "code",
   "execution_count": 16,
   "metadata": {},
   "outputs": [],
   "source": [
    "f = lambda x, v : (1 / 2*np.pi)*np.exp(-0.5*(x**2+v**2))\n"
   ]
  },
  {
   "cell_type": "code",
   "execution_count": 5,
   "metadata": {},
   "outputs": [
    {
     "data": {
      "text/plain": [
       "Text(0, 0.5, '$v$')"
      ]
     },
     "execution_count": 5,
     "metadata": {},
     "output_type": "execute_result"
    },
    {
     "data": {
      "image/png": "[encoded data removed]",
      "text/plain": [
       "<Figure size 640x480 with 1 Axes>"
      ]
     },
     "metadata": {},
     "output_type": "display_data"
    }
   ],
   "source": [
    "\n",
    "f_zero = f(xx, vv)\n",
    "plt.contourf(x, v, f_zero)\n",
    "plt.xlabel(r'$x$')\n",
    "plt.ylabel(r'$v$')  "
   ]
  },
  {
   "cell_type": "markdown",
   "metadata": {},
   "source": [
    "## Résolution de  l'équation de Poisson"
   ]
  },
  {
   "cell_type": "markdown",
   "metadata": {},
   "source": [
    "La partie poisson du problème s'écrit \n",
    "\n",
    "\\begin{equation}\n",
    "\\tag{P}\n",
    "\\partial_x E = \\rho(x,t) = 1 - \\int f(x, v, t) \\,\\text{d}v\n",
    "\\end{equation}\n",
    "\n",
    "On va résoudre ce problème en discrétisant $f$ en modes de Fourier selon \n",
    "$$ f^n(x,v) = f(x,v, t_n) = \\frac{1}{2\\pi} \\sum\\limits_{k,l} c^n_{k,l} \\, e^{i k.x} e^{i l.v} $$\n",
    "Ainsi \n",
    "\\begin{align*}\n",
    "\\rho^n(x, v) & = 1 - \\frac{1}{2\\pi} \\sum\\limits_{k,l} c^n_{k,l} \\, e^{i k.x} \\underbrace{\\int e^{i l.v} \\,\\text{d}v}_{=0 \\text{ si } l\\neq 0 \\text{ et } 2\\pi \\text{ sinon}} \\\\ \n",
    "             & = 1 - \\sum\\limits_{k} c^n_{k,0} \\, e^{i k.x}  \\\\ \n",
    "             & = \\sum\\limits_{k} \\tilde{c_k}^n \\, e^{i k.x},         \n",
    "\\end{align*}\n",
    "en posant $$\\tilde{c_k}^n = \n",
    "            \\begin{cases} \n",
    "                1 - c^n_{k,0} & \\text { si } k=0 \\\\\n",
    "                - c^n_{k,0} & \\text{ sinon.}\n",
    "            \\end{cases} \n",
    "            $$\n",
    "On écrit la somme de Fourier pour le champ électrique : \n",
    "$$ E^n(x) = \\frac{1}{2\\pi} \\sum\\limits_{j} d_j^n \\, e^{i j.x} $$ \n",
    "donc \n",
    "$$ \\frac{\\text{d} E^n}{\\text{d} x} = \\frac{1}{2\\pi} \\sum\\limits_{j} i j\\, d_j^n \\, e^{i j.x} $$\n",
    "\n",
    "et par identification (unicité) des coefficients de Fourier on obtient $d_k^n = \\frac{\\tilde{c_k}^n}{ik} \\text{ pour } k\\neq 0$. La valeur de $d_0^n$ qui correspond à la moyenne du champ électrique peut être choisie librement et on prendra par exemple $d_0^n=0$."
   ]
  },
  {
   "cell_type": "markdown",
   "metadata": {},
   "source": [
    "## Calcul des coefficients de fourier et approximation de la série "
   ]
  },
  {
   "cell_type": "markdown",
   "metadata": {},
   "source": [
    "On considère une fonction $f$ $2\\pi$-périodique définie sur $]-\\pi, \\pi[$ d'une variable $x$ 1D dont on cherche à calculer les coefficients de Fourier seulement à partir de sa connaissance sur une grille discrétisée $\\{x_l\\}_{l=0, \\,\\cdots,\\, n_x-1}$.\n",
    "\n",
    "Le $k$-ème coefficient de Fourier de $f$ noté $c_k$ est défini par \n",
    "\n",
    "$$ c_k = \\int_{-\\pi}^{\\pi} f(x) e^{-inx} dx $$ \n",
    "\n",
    "Nous allons approcher ces coefficients à partir de notre discrétisation de l'espace des phases en $x$ avec une somme de Riemman selon : \n",
    "\n",
    "$$ c_k^{n_x}= \\frac{2\\pi}{n_x}\\sum\\limits_{l=0}^{n_x-1} f_l \\, e^{-ik\\,x_l} \\underset{n_x \\to +\\infty}{\\longrightarrow} c_k .$$ \n",
    "\n",
    "Avec $\\frac{2\\pi}{n_x} = \\Delta x$, l'incrément en $x$."
   ]
  },
  {
   "cell_type": "markdown",
   "metadata": {},
   "source": [
    "La fonction $f$ est donc approchée par sa série de fourier (où les coefficients de Fourier sont approchés selon ce qui précède) \n",
    "\n",
    "$$ f(x) \\sim \\sum\\limits_{k\\in\\mathbb{Z}} c_k^{n_x} \\,e^{ik.x}. $$ \n",
    "\n",
    "On introduit ainsi une nouvelle étape de discrétisation en tronquant cette somme de Fourier afin de reconstruire la fonction numériquement. Soit donc $K\\in \\mathbb{N}^*$ tel qu'on fait l'approximation \n",
    "\n",
    "$$ f(x) \\sim \\sum\\limits_{k = -K}^{K} c_k^{n_x} \\, e^{ik.x}.$$ \n"
   ]
  },
  {
   "cell_type": "code",
   "execution_count": 166,
   "metadata": {},
   "outputs": [],
   "source": [
    "K = 50\n",
    "k_values = np.arange(-K, K+1)"
   ]
  },
  {
   "cell_type": "markdown",
   "metadata": {},
   "source": [
    "\n",
    "On s'intéresse ainsi au calcul des coefficients $c_k$ pour $k= -K, \\,\\cdots,\\, K$ et l'on voit que l'on peut écrire le calcul sous forme matricielle selon : \n",
    "\n",
    " \n",
    "$$\n",
    "\\begin{pmatrix}\n",
    "c_{-K} \\\\\n",
    "\\vdots \\\\ \n",
    "c_{K}\n",
    "\\end{pmatrix}\n",
    "= \n",
    "\\frac{2\\pi}{n_x} \n",
    "\\tilde{F}\n",
    "\\begin{pmatrix}\n",
    "f_0 \\\\ \n",
    "\\vdots \\\\ \n",
    "f_{n_x -1} \n",
    "\\end{pmatrix}\n",
    ",\n",
    "$$\n",
    "\n",
    "Où $\\tilde{F}\\in \\mathbb{R}^{(2K + 1) \\times n_x}$ est la matrice définie par \n",
    "$$ \\tilde{F} = [ \\,e^{-ik\\,x_l}\\, ]_{k = \\, -K, \\cdots, \\,K ;\\, l=\\,0, \\cdots,\\, n_x-1}.$$ "
   ]
  },
  {
   "cell_type": "code",
   "execution_count": 201,
   "metadata": {},
   "outputs": [],
   "source": [
    "F = np.zeros(((5,5,5)))\n",
    "m = np.ones((5,5))"
   ]
  },
  {
   "cell_type": "code",
   "execution_count": 203,
   "metadata": {},
   "outputs": [
    {
     "data": {
      "text/plain": [
       "(5, 5, 5)"
      ]
     },
     "execution_count": 203,
     "metadata": {},
     "output_type": "execute_result"
    }
   ],
   "source": [
    "np.shape(F @ m) "
   ]
  },
  {
   "cell_type": "code",
   "execution_count": 86,
   "metadata": {},
   "outputs": [],
   "source": [
    "import itertools as it "
   ]
  },
  {
   "cell_type": "code",
   "execution_count": 87,
   "metadata": {},
   "outputs": [
    {
     "name": "stdout",
     "output_type": "stream",
     "text": [
      "[-2 -1  0  1  2]\n"
     ]
    }
   ],
   "source": [
    "print(np.arange(-K, K+1)) "
   ]
  },
  {
   "cell_type": "code",
   "execution_count": 137,
   "metadata": {},
   "outputs": [],
   "source": [
    "def build_F_tilde(x):\n",
    "    # nx = len(x) \n",
    "    F_tilde = np.array([np.exp(-k*1j * x[l]) for k,l in it.product(k_values, range(nx))], dtype=complex)\n",
    "    F_tilde.resize((2*K+1,nx)) \n",
    "    return F_tilde\n",
    "\n",
    "def fourier_coeffs_1D(x, f, F_tilde):\n",
    "    # nx = len(x) \n",
    "    c = ((2 * np.pi) / nx) * F_tilde @ f \n",
    "    return c"
   ]
  },
  {
   "cell_type": "markdown",
   "metadata": {},
   "source": [
    "On écrit une fonction qui reconstruit une fonction en calculant sa série de fourier tronquée à partir de ses coefficients de fourier "
   ]
  },
  {
   "cell_type": "code",
   "execution_count": 138,
   "metadata": {},
   "outputs": [],
   "source": [
    "def fourier_reconstuction(x, c):\n",
    "    s = lambda x: (1 / (2*np.pi)) * np.sum([coeff*np.exp(1j*k*x) for k, coeff in zip(k_values, c)])\n",
    "    return np.array([s(_x) for _x in x]) "
   ]
  },
  {
   "cell_type": "markdown",
   "metadata": {},
   "source": [
    "## Test de la reconstruction "
   ]
  },
  {
   "cell_type": "code",
   "execution_count": 149,
   "metadata": {},
   "outputs": [],
   "source": [
    "g = lambda x : np.sin(x) + np.sin(2*x) + np.cos(x) \n",
    "g_h = g(x)"
   ]
  },
  {
   "cell_type": "code",
   "execution_count": 150,
   "metadata": {},
   "outputs": [
    {
     "name": "stdout",
     "output_type": "stream",
     "text": [
      "(41, 100)\n"
     ]
    }
   ],
   "source": [
    "F = build_F_tilde(x) \n",
    "print(np.shape(F))\n",
    "c = fourier_coeffs_1D(x, g_h, F) "
   ]
  },
  {
   "cell_type": "code",
   "execution_count": 151,
   "metadata": {},
   "outputs": [
    {
     "data": {
      "text/plain": [
       "<matplotlib.collections.PathCollection at 0x7f990b85ab60>"
      ]
     },
     "execution_count": 151,
     "metadata": {},
     "output_type": "execute_result"
    },
    {
     "data": {
      "image/png": "[encoded data removed]",
      "text/plain": [
       "<Figure size 640x480 with 1 Axes>"
      ]
     },
     "metadata": {},
     "output_type": "display_data"
    }
   ],
   "source": [
    "plt.scatter(np.arange(-K, K+1), np.abs(c), c='red', marker='x') "
   ]
  },
  {
   "cell_type": "code",
   "execution_count": 152,
   "metadata": {},
   "outputs": [],
   "source": [
    "rec = fourier_reconstuction(x, c)"
   ]
  },
  {
   "cell_type": "code",
   "execution_count": 153,
   "metadata": {},
   "outputs": [
    {
     "data": {
      "text/plain": [
       "[<matplotlib.lines.Line2D at 0x7f990b8e16f0>]"
      ]
     },
     "execution_count": 153,
     "metadata": {},
     "output_type": "execute_result"
    },
    {
     "data": {
      "image/png": "[encoded data removed]",
      "text/plain": [
       "<Figure size 640x480 with 1 Axes>"
      ]
     },
     "metadata": {},
     "output_type": "display_data"
    }
   ],
   "source": [
    "plt.plot(x, rec) \n",
    "plt.plot(x, g_h)"
   ]
  },
  {
   "cell_type": "markdown",
   "metadata": {},
   "source": [
    "## Calcul des modes en $l=0$ "
   ]
  },
  {
   "cell_type": "code",
   "execution_count": 155,
   "metadata": {},
   "outputs": [],
   "source": [
    "F = build_F_tilde(x)\n",
    "c = fourier_coeffs_1D(x, f_zero[:,0], F) "
   ]
  },
  {
   "cell_type": "code",
   "execution_count": 156,
   "metadata": {},
   "outputs": [
    {
     "data": {
      "text/plain": [
       "<matplotlib.collections.PathCollection at 0x7f990b716da0>"
      ]
     },
     "execution_count": 156,
     "metadata": {},
     "output_type": "execute_result"
    },
    {
     "data": {
      "image/png": "[encoded data removed]",
      "text/plain": [
       "<Figure size 640x480 with 1 Axes>"
      ]
     },
     "metadata": {},
     "output_type": "display_data"
    }
   ],
   "source": [
    "plt.scatter(k_values, np.abs(c), c='red')"
   ]
  },
  {
   "cell_type": "code",
   "execution_count": 157,
   "metadata": {},
   "outputs": [],
   "source": [
    "f_zero_rec = fourier_reconstuction(x, c) "
   ]
  },
  {
   "cell_type": "code",
   "execution_count": 159,
   "metadata": {},
   "outputs": [
    {
     "name": "stderr",
     "output_type": "stream",
     "text": [
      "/home/murloc/.local/lib/python3.10/site-packages/matplotlib/cbook/__init__.py:1369: ComplexWarning: Casting complex values to real discards the imaginary part\n",
      "  return np.asarray(x, float)\n"
     ]
    },
    {
     "data": {
      "text/plain": [
       "[<matplotlib.lines.Line2D at 0x7f990b669ab0>]"
      ]
     },
     "execution_count": 159,
     "metadata": {},
     "output_type": "execute_result"
    },
    {
     "data": {
      "image/png": "[encoded data removed]",
      "text/plain": [
       "<Figure size 640x480 with 1 Axes>"
      ]
     },
     "metadata": {},
     "output_type": "display_data"
    }
   ],
   "source": [
    "plt.plot(f_zero_rec)\n",
    "plt.plot(f_zero[:,0]) "
   ]
  },
  {
   "cell_type": "code",
   "execution_count": 16,
   "metadata": {},
   "outputs": [],
   "source": [
    "import itertools as it "
   ]
  },
  {
   "cell_type": "code",
   "execution_count": 22,
   "metadata": {},
   "outputs": [],
   "source": [
    "## Not Needed by now \n",
    "def reconstuction_2D(x, v, c):\n",
    "    nx = len(x) ; nv = len(v) \n",
    "    rec = np.zeros((nx,nv), dtype=complex)\n",
    "    rec_function = lambda x,v : np.sum([c[k,l] * np.exp(1j*k*x) * np.exp(1j*l*v) for k,l in np.ndindex((nx,nv))])\n",
    "    return rec_function\n",
    "    # for k,l in np.ndindex((nx,nv)):\n",
    "    #     rec[k,l] = np.sum([c[k,l] * np.exp(1j*k*x[k]) * np.exp(1j*l*v[l]) for k,l in np.ndindex((nx,nv))]) \n",
    "    # return rec "
   ]
  },
  {
   "cell_type": "markdown",
   "metadata": {},
   "source": [
    "## Code pour la résolution de Poisson "
   ]
  },
  {
   "cell_type": "markdown",
   "metadata": {},
   "source": [
    "Tous les éléments sont ainsi en place afin de résoudre l'équation de Poisson grâce aux séries de fourier "
   ]
  },
  {
   "cell_type": "code",
   "execution_count": 191,
   "metadata": {},
   "outputs": [],
   "source": [
    "def solve_poisson(x, f):\n",
    "    nx = len(x) \n",
    "    F = build_F_tilde(x)\n",
    "    c = fourier_coeffs_1D(x, f[:,0], F)\n",
    "    c_tilde = np.zeros(2*K+1, dtype=complex)\n",
    "    c_tilde[0] = 1 - c[0] \n",
    "    for k in range(1, 2*K+1):\n",
    "        c_tilde[k] = - c[k]      \n",
    "    d = np.zeros(2*K+1, dtype=complex)\n",
    "    # Electric field mean has to be fixed\n",
    "    d[0] = 0 \n",
    "    for k in range(1, 2*K+1):  \n",
    "        d[k] = (c_tilde[k]) / (k*1j)\n",
    "    _E = fourier_reconstuction(x, d)\n",
    "    return _E"
   ]
  },
  {
   "cell_type": "code",
   "execution_count": 187,
   "metadata": {},
   "outputs": [],
   "source": [
    "E_zero = solve_poisson(x, f_zero)"
   ]
  },
  {
   "cell_type": "code",
   "execution_count": 188,
   "metadata": {},
   "outputs": [
    {
     "data": {
      "text/plain": [
       "<matplotlib.contour.QuadContourSet at 0x7f990b29f430>"
      ]
     },
     "execution_count": 188,
     "metadata": {},
     "output_type": "execute_result"
    },
    {
     "data": {
      "image/png": "[encoded data removed]",
      "text/plain": [
       "<Figure size 640x480 with 1 Axes>"
      ]
     },
     "metadata": {},
     "output_type": "display_data"
    }
   ],
   "source": [
    "plt.contourf(f_zero) "
   ]
  },
  {
   "cell_type": "code",
   "execution_count": 189,
   "metadata": {},
   "outputs": [
    {
     "data": {
      "text/plain": [
       "[<matplotlib.lines.Line2D at 0x7f990b3073d0>]"
      ]
     },
     "execution_count": 189,
     "metadata": {},
     "output_type": "execute_result"
    },
    {
     "data": {
      "image/png": "[encoded data removed]",
      "text/plain": [
       "<Figure size 640x480 with 1 Axes>"
      ]
     },
     "metadata": {},
     "output_type": "display_data"
    }
   ],
   "source": [
    "plt.plot(np.abs(E_zero)) "
   ]
  },
  {
   "cell_type": "markdown",
   "metadata": {},
   "source": [
    "## Transport dans l'équation de Vlasov\n"
   ]
  },
  {
   "cell_type": "markdown",
   "metadata": {},
   "source": [
    "L'équation de Vlasov peut être décomposée en deux phénomènes décrivant son évolution :\n",
    "- une advection en $v$ causée par le champ $E$ : \n",
    "\n",
    "\\begin{equation}\n",
    "\\tag{a}\n",
    "\\partial_t f - E(x,t) \\, \\partial_v f = 0 \n",
    "\\end{equation}\n",
    "\n",
    "- une advection en $x$ causée par le champ de vitesses : \n",
    "\n",
    "\\begin{equation}\n",
    "\\tag{b}\n",
    "\\partial_t + v \\,\\partial_x f = 0\n",
    "\\end{equation}\n",
    "\n",
    "Ces équations sont des équations de transport, dont les solutions analytiques peuvent être obtenues en appliquant la \"méthode des caractéristiques\".\n"
   ]
  },
  {
   "cell_type": "markdown",
   "metadata": {},
   "source": [
    "### Méthode des caractéristiques"
   ]
  },
  {
   "cell_type": "markdown",
   "metadata": {},
   "source": [
    "\n",
    "\n",
    "On considère une équation de transport 1D homogène à une dimension avec champ de vitesse $a(x,t)$: \n",
    "\n",
    "\\begin{equation}\n",
    "\\tag{T}\n",
    "\\partial_t u + a(x,t)\\,\\partial_x u = 0\n",
    "\\end{equation}\n",
    "\n",
    "Soit $(t,x) \\in \\mathbb{R}^{+} \\times \\mathbb{R}$ et  $X(s;t,x), s\\in \\mathbb{R}$ une courbe paramétrée lisse telle que $X(t;t,x) = x$.\n",
    "\n",
    "On effectue le calcul de $\\frac{d}{ds}u(X(s;t,x), t)$. \n",
    "\n",
    "\\begin{align*} \n",
    "    \\frac{\\text{d}}{\\text{d}s}u(X(s;t,x), s) = \\partial_t u(X(s;t,x), s) + \\frac{\\text{d}X}{\\text{d}s}(s;t,x)\\, \\partial_x u(X(s;t,x),s) & \\quad \\text{ (règle de la chaine)} \n",
    "\\end{align*} \n",
    "\n",
    "On voit donc avec $(\\text{T})$ que cette égalité se réduit à zéro si on impose la condition \n",
    "\n",
    "\\begin{equation}\n",
    "\\tag{C}\n",
    "\\frac{\\text{d}X}{\\text{d}s} (s; t,x) = a(X(s;t,x),s) \n",
    "\\end{equation}\n",
    "\n",
    "On a ainsi réduit la résolution de l'EDP $(\\text{T})$ à la résolution de l'EDO $(\\text{C})$ dite \"équation des caractéristiques\". \n"
   ]
  },
  {
   "cell_type": "markdown",
   "metadata": {},
   "source": [
    "Dans le cas simple où le champ de vitesses $a$ est constant, l'équation $(\\text{C})$ s'intégre en \n",
    "$$X(s;t,x) = as + b$$ \n",
    "\n",
    "et le coefficient b est déterminé par la condition\n",
    "\n",
    "$$X(t;t,x) = x \\implies b = x - at$$ \n",
    "\n",
    "de sorte que \n",
    "\n",
    "$$X(s;t,x) = x + a(s-t).$$\n",
    "\n",
    "L'intérêt d'imposer l'équation des caractéristiques $\\text{(C)}$ est de fixer \n",
    "\n",
    "$$\\frac{\\text{d}}{\\text{d}s}u(X(s;t,x), s)= 0$$\n",
    "\n",
    "et ainsi $\\textbf{la solution est constante le long des courbes caractéristiques}$ de sorte que pour tout $(x,t)$\n",
    "\n",
    "$$u(x,t) = u(X(t;t,x), t) = u(X(0;t,x), 0) = u_0(x-at)$$ \n",
    "\n",
    "où $u_0(x) = u(x, t=0)$ est la condition initiale. \n",
    "\n"
   ]
  },
  {
   "cell_type": "markdown",
   "metadata": {},
   "source": [
    "On voit ainsi ques les équations $(a)$ et $(b)$ sont analytiquement résolues par \n",
    "\n",
    "\\begin{equation}\n",
    "\\tag{a*}\n",
    "    f(x,v,t) = f_0(x, v + E(x)\\,t)\n",
    "\\end{equation}\n",
    "et\n",
    "\\begin{equation}\n",
    "\\tag{b*}\n",
    "    f(x,v,t) = f_0(x - v\\,t, v)\n",
    "\\end{equation}\n",
    "respectivement. \n",
    "\n",
    "Seulement dans notre cas où l'on cherche à résoudre l'équation de Vlasov-Poisson (où l'évolution du champ électrique $E$ est couplée à l'équation de Vlasov) nous faison face à deux difficultés : \n",
    "\n",
    "1) Quel champ $E$ utiliser dans l'étape d'advection en $v$ ? Celui-ci évolue en effet simultanément par rapport à $f$. Cette question va nous amener à définir un schéma de $\\textbf{splitting}$.\n",
    "2) Les points $x-v\\,t$ ou $v + E(x)\\,t$ n'ont aucune raison particulière d'appartenir au maillage $\\mathcal{M}$. Ce qui va nous amener à définir une étape $\\textbf{d'interpolation}$ dans le schéma. "
   ]
  },
  {
   "cell_type": "markdown",
   "metadata": {},
   "source": [
    "## Interpolation en séries de Fourier "
   ]
  },
  {
   "cell_type": "markdown",
   "metadata": {},
   "source": [
    "On suppose connus la décomposition en série de fourier tronquée de $f$ à l'étape $n$ selon : \n",
    "\n",
    "$$ f^n(x, v) = \\frac{1}{2\\pi}\\sum\\limits_{k= -K}^{K}\\sum\\limits_{l = -L}^L c_{k,l}^n \\, e^{i k.x}e^{i l.v} $$ \n",
    "\n",
    "L'interpolation consiste ainsi à évaluer cette expression aux points d'interpolation $x - v\\Delta t$ ou $v + E(x)\\frac{\\Delta t}{2}$ par exemple. "
   ]
  },
  {
   "cell_type": "markdown",
   "metadata": {},
   "source": [
    "## Calcul des coefficients de fourier en 2D \n",
    "\n",
    "On voit ainsi qu'on a besoin de calculer les coefficients de fourier de $f$ dans les deux dimensions $(x,v)$ pour réaliser l'interpolation. On introduit donc de même le paramètre $L$."
   ]
  },
  {
   "cell_type": "code",
   "execution_count": 196,
   "metadata": {},
   "outputs": [],
   "source": [
    "L = K \n",
    "l_values = np.arange(-L, L+1) "
   ]
  },
  {
   "cell_type": "markdown",
   "metadata": {},
   "source": [
    "De manière similaire à ce qui a été fait en dimension 1 on calcule les coefficients de fourier en 2D en résolvant un système matriciel qui peut s'écrire : \n",
    "\n",
    "$$ \n",
    "\\begin{pmatrix}\n",
    "c_{-K, -L} &  \\cdots & c_{-K, L} \\\\ \n",
    "\\vdots   & & \\vdots \\\\ \n",
    "c_{K, -L} & \\cdots & c_{K, L} \n",
    "\\end{pmatrix}\n",
    "= \n",
    "\\frac{4\\pi^2}{n_x\\,n_v}\n",
    "\\tilde{F}^{2D}\n",
    "\\begin{pmatrix}\n",
    "f_{0,0} & \\cdots & f_{0, n_v-1} \\\\ \n",
    "\\vdots &  & \\vdots \\\\ \n",
    "f_{n_x -1, 0} & \\cdots & f_{n_x-1, n_v-1} \n",
    "\\end{pmatrix}\n",
    "$$\n",
    "\n",
    "Où $\\tilde{F}^{2D}\\in\\mathbb{R}^{(2K+1) \\times (2L+1) \\times n_x \\times n_v}$ est le tenseur d'ordre 4 défini par \n",
    "\n",
    "$$ \\tilde{F}^{2D} = [ e^{-ik.x_m}e^{-il.v_n}]_{\\,k,l,m,n}  \\quad k=-K,\\cdots,K;\\, l=-L, \\cdots, L;\\, m=0,\\cdots, n_x-1;\\, n=0, \\cdots, n_v-1$$ \n",
    "\n"
   ]
  },
  {
   "cell_type": "code",
   "execution_count": 204,
   "metadata": {},
   "outputs": [],
   "source": [
    "def build_F_tilde_2D(x, v):\n",
    "    F_tilde = np.array([ np.exp(-k*1j * x[m])* np.exp(-l*1j * v[n]) for k,l,m,n in it.product(k_values, l_values, range(nx), range(nv))], dtype=complex)\n",
    "    F_tilde.resize((2*K+1, 2*L+1, nx, nv)) \n",
    "    return F_tilde"
   ]
  },
  {
   "cell_type": "code",
   "execution_count": 205,
   "metadata": {},
   "outputs": [],
   "source": [
    "def fourier_coeffs_2D(x, v, f, F_tilde):\n",
    "    return ((4*np.pi**2) / (nx*nv)) * F_tilde @ f \n",
    "    "
   ]
  },
  {
   "cell_type": "code",
   "execution_count": 206,
   "metadata": {},
   "outputs": [
    {
     "ename": "KeyboardInterrupt",
     "evalue": "",
     "output_type": "error",
     "traceback": [
      "\u001b[0;31m---------------------------------------------------------------------------\u001b[0m",
      "\u001b[0;31mKeyboardInterrupt\u001b[0m                         Traceback (most recent call last)",
      "Cell \u001b[0;32mIn [206], line 1\u001b[0m\n\u001b[0;32m----> 1\u001b[0m F \u001b[38;5;241m=\u001b[39m build_F_tilde_2D(x, v) \n\u001b[1;32m      2\u001b[0m c \u001b[38;5;241m=\u001b[39m fourier_coeffs_2D(x, v, f_zero, F)\n",
      "Cell \u001b[0;32mIn [204], line 2\u001b[0m, in \u001b[0;36mbuild_F_tilde_2D\u001b[0;34m(x, v)\u001b[0m\n\u001b[1;32m      1\u001b[0m \u001b[38;5;28;01mdef\u001b[39;00m \u001b[38;5;21mbuild_F_tilde_2D\u001b[39m(x, v):\n\u001b[0;32m----> 2\u001b[0m     F_tilde \u001b[38;5;241m=\u001b[39m np\u001b[38;5;241m.\u001b[39marray([ np\u001b[38;5;241m.\u001b[39mexp(\u001b[38;5;241m-\u001b[39mk\u001b[38;5;241m*\u001b[39m\u001b[38;5;241m1\u001b[39mj \u001b[38;5;241m*\u001b[39m x[m])\u001b[38;5;241m*\u001b[39m np\u001b[38;5;241m.\u001b[39mexp(\u001b[38;5;241m-\u001b[39ml\u001b[38;5;241m*\u001b[39m\u001b[38;5;241m1\u001b[39mj \u001b[38;5;241m*\u001b[39m v[n]) \u001b[38;5;28;01mfor\u001b[39;00m k,l,m,n \u001b[38;5;129;01min\u001b[39;00m it\u001b[38;5;241m.\u001b[39mproduct(k_values, l_values, \u001b[38;5;28mrange\u001b[39m(nx), \u001b[38;5;28mrange\u001b[39m(nv))], dtype\u001b[38;5;241m=\u001b[39m\u001b[38;5;28mcomplex\u001b[39m)\n\u001b[1;32m      3\u001b[0m     F_tilde\u001b[38;5;241m.\u001b[39mresize((\u001b[38;5;241m2\u001b[39m\u001b[38;5;241m*\u001b[39mK\u001b[38;5;241m+\u001b[39m\u001b[38;5;241m1\u001b[39m, \u001b[38;5;241m2\u001b[39m\u001b[38;5;241m*\u001b[39mL\u001b[38;5;241m+\u001b[39m\u001b[38;5;241m1\u001b[39m, nx, nv)) \n\u001b[1;32m      4\u001b[0m     \u001b[38;5;28;01mreturn\u001b[39;00m F_tilde\n",
      "Cell \u001b[0;32mIn [204], line 2\u001b[0m, in \u001b[0;36m<listcomp>\u001b[0;34m(.0)\u001b[0m\n\u001b[1;32m      1\u001b[0m \u001b[38;5;28;01mdef\u001b[39;00m \u001b[38;5;21mbuild_F_tilde_2D\u001b[39m(x, v):\n\u001b[0;32m----> 2\u001b[0m     F_tilde \u001b[38;5;241m=\u001b[39m np\u001b[38;5;241m.\u001b[39marray([ \u001b[43mnp\u001b[49m\u001b[38;5;241;43m.\u001b[39;49m\u001b[43mexp\u001b[49m\u001b[43m(\u001b[49m\u001b[38;5;241;43m-\u001b[39;49m\u001b[43mk\u001b[49m\u001b[38;5;241;43m*\u001b[39;49m\u001b[38;5;241;43m1\u001b[39;49m\u001b[43mj\u001b[49m\u001b[43m \u001b[49m\u001b[38;5;241;43m*\u001b[39;49m\u001b[43m \u001b[49m\u001b[43mx\u001b[49m\u001b[43m[\u001b[49m\u001b[43mm\u001b[49m\u001b[43m]\u001b[49m\u001b[43m)\u001b[49m\u001b[38;5;241m*\u001b[39m np\u001b[38;5;241m.\u001b[39mexp(\u001b[38;5;241m-\u001b[39ml\u001b[38;5;241m*\u001b[39m\u001b[38;5;241m1\u001b[39mj \u001b[38;5;241m*\u001b[39m v[n]) \u001b[38;5;28;01mfor\u001b[39;00m k,l,m,n \u001b[38;5;129;01min\u001b[39;00m it\u001b[38;5;241m.\u001b[39mproduct(k_values, l_values, \u001b[38;5;28mrange\u001b[39m(nx), \u001b[38;5;28mrange\u001b[39m(nv))], dtype\u001b[38;5;241m=\u001b[39m\u001b[38;5;28mcomplex\u001b[39m)\n\u001b[1;32m      3\u001b[0m     F_tilde\u001b[38;5;241m.\u001b[39mresize((\u001b[38;5;241m2\u001b[39m\u001b[38;5;241m*\u001b[39mK\u001b[38;5;241m+\u001b[39m\u001b[38;5;241m1\u001b[39m, \u001b[38;5;241m2\u001b[39m\u001b[38;5;241m*\u001b[39mL\u001b[38;5;241m+\u001b[39m\u001b[38;5;241m1\u001b[39m, nx, nv)) \n\u001b[1;32m      4\u001b[0m     \u001b[38;5;28;01mreturn\u001b[39;00m F_tilde\n",
      "\u001b[0;31mKeyboardInterrupt\u001b[0m: "
     ]
    }
   ],
   "source": [
    "F = build_F_tilde_2D(x, v) \n",
    "c = fourier_coeffs_2D(x, v, f_zero, F) "
   ]
  },
  {
   "cell_type": "markdown",
   "metadata": {},
   "source": [
    "Juste pour voir la différence ... :( "
   ]
  },
  {
   "cell_type": "code",
   "execution_count": 207,
   "metadata": {},
   "outputs": [],
   "source": [
    "c_fft = np.fft.fft2(f_zero)"
   ]
  },
  {
   "cell_type": "code",
   "execution_count": 209,
   "metadata": {},
   "outputs": [
    {
     "data": {
      "text/plain": [
       "<matplotlib.contour.QuadContourSet at 0x7f990b099000>"
      ]
     },
     "execution_count": 209,
     "metadata": {},
     "output_type": "execute_result"
    },
    {
     "data": {
      "image/png": "[encoded data removed]",
      "text/plain": [
       "<Figure size 640x480 with 1 Axes>"
      ]
     },
     "metadata": {},
     "output_type": "display_data"
    }
   ],
   "source": [
    "plt.contourf(np.log(np.abs(c_fft))) "
   ]
  },
  {
   "cell_type": "markdown",
   "metadata": {},
   "source": [
    "## Schéma de Splitting semi-lagrangien"
   ]
  },
  {
   "cell_type": "markdown",
   "metadata": {},
   "source": [
    "Nous détaillons ici le schéma de splitting que nous allons mettre en place pour la résolution du système de Vlasov-Poisson. \n",
    "\n",
    "1. $\\textbf{Initialisation}$ : On se donne une condition initiale $f_0$, avec laquelle on calcule le champ initial $E_0$ en résolvant $(\\text{P})$\n",
    "2. $\\textbf{Itération}$ : \n",
    "    - A partir de $(E^n, \\,f^n)$ calculés à l'étape $n$ on calcule l'advection en $v$ sur un demi pas de temps $f^*(x,v) = f^n(x, v + E^n(x)\\,\\frac{\\Delta t}{2})$ qui est solution de\n",
    "        $$ \\partial_t f - E^n(x)\\,\\partial_v f = 0.$$\n",
    "        Les valeurs de $f^*$ étant obtenues par interpolation de $f^n$ selon la dimension $v$.\n",
    "\n",
    "    - A partir de $f^*$ on calcule l'advection en $x$ sur un pas de temps complet $f^{**}(x,v) = f^*(x - v\\,\\Delta t, v)$ qui est solution de \n",
    "        $$ \\partial_t f + v \\,\\partial_x f = 0.$$ \n",
    "        Les valeurs de $f^{**}$ étant également obtenues par interpolation de $f^{*}$ selon la dimension $x$.\n",
    "\n",
    "    - On calcule le nouveau champ électrique $E^{n+1}(x)$ en résolvant $(\\text{P})$ à partir de la distribution $f^{**}$.\n",
    "    \n",
    "    - Enfin, on effectue une dernière advection également avec une étape d'interpolation en $v$ à partir du nouveau champ électrique et de $f^{**}$ pour obtenir $f^{n+1}(x,v) = f^{**}(x, v+E^{n+1}(x)\\,\\frac{\\Delta t}{2})$ qui est solution de \n",
    "        $$ \\partial_t f - E^{n+1}(x)\\,\\partial_v f = 0.$$ \n",
    "    \n",
    "    - On stocke $(f^{n+1}, \\,E^{n+1})$.\n"
   ]
  },
  {
   "cell_type": "markdown",
   "metadata": {},
   "source": []
  }
 ],
 "metadata": {
  "kernelspec": {
   "display_name": "Python 3.10.6 64-bit",
   "language": "python",
   "name": "python3"
  },
  "language_info": {
   "codemirror_mode": {
    "name": "ipython",
    "version": 3
   },
   "file_extension": ".py",
   "mimetype": "text/x-python",
   "name": "python",
   "nbconvert_exporter": "python",
   "pygments_lexer": "ipython3",
   "version": "3.10.6"
  },
  "orig_nbformat": 4,
  "vscode": {
   "interpreter": {
    "hash": "916dbcbb3f70747c44a77c7bcd40155683ae19c65e1c03b4aa3499c5328201f1"
   }
  }
 },
 "nbformat": 4,
 "nbformat_minor": 2
}
